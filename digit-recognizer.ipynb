{
 "cells": [
  {
   "cell_type": "code",
   "execution_count": 1,
   "id": "4d3b26bf",
   "metadata": {
    "_cell_guid": "b1076dfc-b9ad-4769-8c92-a6c4dae69d19",
    "_uuid": "8f2839f25d086af736a60e9eeb907d3b93b6e0e5",
    "execution": {
     "iopub.execute_input": "2022-06-06T05:23:04.483958Z",
     "iopub.status.busy": "2022-06-06T05:23:04.483196Z",
     "iopub.status.idle": "2022-06-06T05:23:08.909223Z",
     "shell.execute_reply": "2022-06-06T05:23:08.906861Z"
    },
    "papermill": {
     "duration": 4.445742,
     "end_time": "2022-06-06T05:23:08.911161",
     "exception": false,
     "start_time": "2022-06-06T05:23:04.465419",
     "status": "completed"
    },
    "tags": []
   },
   "outputs": [
    {
     "name": "stdout",
     "output_type": "stream",
     "text": [
      "/kaggle/input/digit-recognizer/sample_submission.csv\n",
      "/kaggle/input/digit-recognizer/train.csv\n",
      "/kaggle/input/digit-recognizer/test.csv\n",
      "2.6.4\n"
     ]
    }
   ],
   "source": [
    "import os\n",
    "import numpy as np\n",
    "import pandas as pd\n",
    "import tensorflow as tf\n",
    "import matplotlib.pyplot as plt\n",
    "\n",
    "import os\n",
    "for dirname, _, filenames in os.walk('/kaggle/input'):\n",
    "    for filename in filenames:\n",
    "        print(os.path.join(dirname, filename))\n",
    "        \n",
    "print(tf.__version__)"
   ]
  },
  {
   "cell_type": "code",
   "execution_count": 2,
   "id": "87bf9b7b",
   "metadata": {
    "execution": {
     "iopub.execute_input": "2022-06-06T05:23:08.927153Z",
     "iopub.status.busy": "2022-06-06T05:23:08.926642Z",
     "iopub.status.idle": "2022-06-06T05:23:13.935285Z",
     "shell.execute_reply": "2022-06-06T05:23:13.934443Z"
    },
    "papermill": {
     "duration": 5.019035,
     "end_time": "2022-06-06T05:23:13.937372",
     "exception": false,
     "start_time": "2022-06-06T05:23:08.918337",
     "status": "completed"
    },
    "tags": []
   },
   "outputs": [],
   "source": [
    "base_fp = '/kaggle/input/digit-recognizer'\n",
    "train_fp = os.path.join(base_fp, 'train.csv')\n",
    "test_fp = os.path.join(base_fp, 'test.csv')\n",
    "\n",
    "train = pd.read_csv(train_fp)\n",
    "test = pd.read_csv(test_fp)"
   ]
  },
  {
   "cell_type": "code",
   "execution_count": 3,
   "id": "9f2a7ee0",
   "metadata": {
    "execution": {
     "iopub.execute_input": "2022-06-06T05:23:13.952963Z",
     "iopub.status.busy": "2022-06-06T05:23:13.952654Z",
     "iopub.status.idle": "2022-06-06T05:23:13.974737Z",
     "shell.execute_reply": "2022-06-06T05:23:13.973911Z"
    },
    "papermill": {
     "duration": 0.032182,
     "end_time": "2022-06-06T05:23:13.977023",
     "exception": false,
     "start_time": "2022-06-06T05:23:13.944841",
     "status": "completed"
    },
    "tags": []
   },
   "outputs": [
    {
     "data": {
      "text/html": [
       "<div>\n",
       "<style scoped>\n",
       "    .dataframe tbody tr th:only-of-type {\n",
       "        vertical-align: middle;\n",
       "    }\n",
       "\n",
       "    .dataframe tbody tr th {\n",
       "        vertical-align: top;\n",
       "    }\n",
       "\n",
       "    .dataframe thead th {\n",
       "        text-align: right;\n",
       "    }\n",
       "</style>\n",
       "<table border=\"1\" class=\"dataframe\">\n",
       "  <thead>\n",
       "    <tr style=\"text-align: right;\">\n",
       "      <th></th>\n",
       "      <th>label</th>\n",
       "      <th>pixel0</th>\n",
       "      <th>pixel1</th>\n",
       "      <th>pixel2</th>\n",
       "      <th>pixel3</th>\n",
       "      <th>pixel4</th>\n",
       "      <th>pixel5</th>\n",
       "      <th>pixel6</th>\n",
       "      <th>pixel7</th>\n",
       "      <th>pixel8</th>\n",
       "      <th>...</th>\n",
       "      <th>pixel774</th>\n",
       "      <th>pixel775</th>\n",
       "      <th>pixel776</th>\n",
       "      <th>pixel777</th>\n",
       "      <th>pixel778</th>\n",
       "      <th>pixel779</th>\n",
       "      <th>pixel780</th>\n",
       "      <th>pixel781</th>\n",
       "      <th>pixel782</th>\n",
       "      <th>pixel783</th>\n",
       "    </tr>\n",
       "  </thead>\n",
       "  <tbody>\n",
       "    <tr>\n",
       "      <th>0</th>\n",
       "      <td>1</td>\n",
       "      <td>0</td>\n",
       "      <td>0</td>\n",
       "      <td>0</td>\n",
       "      <td>0</td>\n",
       "      <td>0</td>\n",
       "      <td>0</td>\n",
       "      <td>0</td>\n",
       "      <td>0</td>\n",
       "      <td>0</td>\n",
       "      <td>...</td>\n",
       "      <td>0</td>\n",
       "      <td>0</td>\n",
       "      <td>0</td>\n",
       "      <td>0</td>\n",
       "      <td>0</td>\n",
       "      <td>0</td>\n",
       "      <td>0</td>\n",
       "      <td>0</td>\n",
       "      <td>0</td>\n",
       "      <td>0</td>\n",
       "    </tr>\n",
       "    <tr>\n",
       "      <th>1</th>\n",
       "      <td>0</td>\n",
       "      <td>0</td>\n",
       "      <td>0</td>\n",
       "      <td>0</td>\n",
       "      <td>0</td>\n",
       "      <td>0</td>\n",
       "      <td>0</td>\n",
       "      <td>0</td>\n",
       "      <td>0</td>\n",
       "      <td>0</td>\n",
       "      <td>...</td>\n",
       "      <td>0</td>\n",
       "      <td>0</td>\n",
       "      <td>0</td>\n",
       "      <td>0</td>\n",
       "      <td>0</td>\n",
       "      <td>0</td>\n",
       "      <td>0</td>\n",
       "      <td>0</td>\n",
       "      <td>0</td>\n",
       "      <td>0</td>\n",
       "    </tr>\n",
       "    <tr>\n",
       "      <th>2</th>\n",
       "      <td>1</td>\n",
       "      <td>0</td>\n",
       "      <td>0</td>\n",
       "      <td>0</td>\n",
       "      <td>0</td>\n",
       "      <td>0</td>\n",
       "      <td>0</td>\n",
       "      <td>0</td>\n",
       "      <td>0</td>\n",
       "      <td>0</td>\n",
       "      <td>...</td>\n",
       "      <td>0</td>\n",
       "      <td>0</td>\n",
       "      <td>0</td>\n",
       "      <td>0</td>\n",
       "      <td>0</td>\n",
       "      <td>0</td>\n",
       "      <td>0</td>\n",
       "      <td>0</td>\n",
       "      <td>0</td>\n",
       "      <td>0</td>\n",
       "    </tr>\n",
       "    <tr>\n",
       "      <th>3</th>\n",
       "      <td>4</td>\n",
       "      <td>0</td>\n",
       "      <td>0</td>\n",
       "      <td>0</td>\n",
       "      <td>0</td>\n",
       "      <td>0</td>\n",
       "      <td>0</td>\n",
       "      <td>0</td>\n",
       "      <td>0</td>\n",
       "      <td>0</td>\n",
       "      <td>...</td>\n",
       "      <td>0</td>\n",
       "      <td>0</td>\n",
       "      <td>0</td>\n",
       "      <td>0</td>\n",
       "      <td>0</td>\n",
       "      <td>0</td>\n",
       "      <td>0</td>\n",
       "      <td>0</td>\n",
       "      <td>0</td>\n",
       "      <td>0</td>\n",
       "    </tr>\n",
       "    <tr>\n",
       "      <th>4</th>\n",
       "      <td>0</td>\n",
       "      <td>0</td>\n",
       "      <td>0</td>\n",
       "      <td>0</td>\n",
       "      <td>0</td>\n",
       "      <td>0</td>\n",
       "      <td>0</td>\n",
       "      <td>0</td>\n",
       "      <td>0</td>\n",
       "      <td>0</td>\n",
       "      <td>...</td>\n",
       "      <td>0</td>\n",
       "      <td>0</td>\n",
       "      <td>0</td>\n",
       "      <td>0</td>\n",
       "      <td>0</td>\n",
       "      <td>0</td>\n",
       "      <td>0</td>\n",
       "      <td>0</td>\n",
       "      <td>0</td>\n",
       "      <td>0</td>\n",
       "    </tr>\n",
       "  </tbody>\n",
       "</table>\n",
       "<p>5 rows × 785 columns</p>\n",
       "</div>"
      ],
      "text/plain": [
       "   label  pixel0  pixel1  pixel2  pixel3  pixel4  pixel5  pixel6  pixel7  \\\n",
       "0      1       0       0       0       0       0       0       0       0   \n",
       "1      0       0       0       0       0       0       0       0       0   \n",
       "2      1       0       0       0       0       0       0       0       0   \n",
       "3      4       0       0       0       0       0       0       0       0   \n",
       "4      0       0       0       0       0       0       0       0       0   \n",
       "\n",
       "   pixel8  ...  pixel774  pixel775  pixel776  pixel777  pixel778  pixel779  \\\n",
       "0       0  ...         0         0         0         0         0         0   \n",
       "1       0  ...         0         0         0         0         0         0   \n",
       "2       0  ...         0         0         0         0         0         0   \n",
       "3       0  ...         0         0         0         0         0         0   \n",
       "4       0  ...         0         0         0         0         0         0   \n",
       "\n",
       "   pixel780  pixel781  pixel782  pixel783  \n",
       "0         0         0         0         0  \n",
       "1         0         0         0         0  \n",
       "2         0         0         0         0  \n",
       "3         0         0         0         0  \n",
       "4         0         0         0         0  \n",
       "\n",
       "[5 rows x 785 columns]"
      ]
     },
     "execution_count": 3,
     "metadata": {},
     "output_type": "execute_result"
    }
   ],
   "source": [
    "train.head(5)"
   ]
  },
  {
   "cell_type": "code",
   "execution_count": 4,
   "id": "93adb1da",
   "metadata": {
    "execution": {
     "iopub.execute_input": "2022-06-06T05:23:13.992400Z",
     "iopub.status.busy": "2022-06-06T05:23:13.992149Z",
     "iopub.status.idle": "2022-06-06T05:23:14.005455Z",
     "shell.execute_reply": "2022-06-06T05:23:14.004771Z"
    },
    "papermill": {
     "duration": 0.023106,
     "end_time": "2022-06-06T05:23:14.007372",
     "exception": false,
     "start_time": "2022-06-06T05:23:13.984266",
     "status": "completed"
    },
    "tags": []
   },
   "outputs": [
    {
     "data": {
      "text/html": [
       "<div>\n",
       "<style scoped>\n",
       "    .dataframe tbody tr th:only-of-type {\n",
       "        vertical-align: middle;\n",
       "    }\n",
       "\n",
       "    .dataframe tbody tr th {\n",
       "        vertical-align: top;\n",
       "    }\n",
       "\n",
       "    .dataframe thead th {\n",
       "        text-align: right;\n",
       "    }\n",
       "</style>\n",
       "<table border=\"1\" class=\"dataframe\">\n",
       "  <thead>\n",
       "    <tr style=\"text-align: right;\">\n",
       "      <th></th>\n",
       "      <th>pixel0</th>\n",
       "      <th>pixel1</th>\n",
       "      <th>pixel2</th>\n",
       "      <th>pixel3</th>\n",
       "      <th>pixel4</th>\n",
       "      <th>pixel5</th>\n",
       "      <th>pixel6</th>\n",
       "      <th>pixel7</th>\n",
       "      <th>pixel8</th>\n",
       "      <th>pixel9</th>\n",
       "      <th>...</th>\n",
       "      <th>pixel774</th>\n",
       "      <th>pixel775</th>\n",
       "      <th>pixel776</th>\n",
       "      <th>pixel777</th>\n",
       "      <th>pixel778</th>\n",
       "      <th>pixel779</th>\n",
       "      <th>pixel780</th>\n",
       "      <th>pixel781</th>\n",
       "      <th>pixel782</th>\n",
       "      <th>pixel783</th>\n",
       "    </tr>\n",
       "  </thead>\n",
       "  <tbody>\n",
       "    <tr>\n",
       "      <th>0</th>\n",
       "      <td>0</td>\n",
       "      <td>0</td>\n",
       "      <td>0</td>\n",
       "      <td>0</td>\n",
       "      <td>0</td>\n",
       "      <td>0</td>\n",
       "      <td>0</td>\n",
       "      <td>0</td>\n",
       "      <td>0</td>\n",
       "      <td>0</td>\n",
       "      <td>...</td>\n",
       "      <td>0</td>\n",
       "      <td>0</td>\n",
       "      <td>0</td>\n",
       "      <td>0</td>\n",
       "      <td>0</td>\n",
       "      <td>0</td>\n",
       "      <td>0</td>\n",
       "      <td>0</td>\n",
       "      <td>0</td>\n",
       "      <td>0</td>\n",
       "    </tr>\n",
       "    <tr>\n",
       "      <th>1</th>\n",
       "      <td>0</td>\n",
       "      <td>0</td>\n",
       "      <td>0</td>\n",
       "      <td>0</td>\n",
       "      <td>0</td>\n",
       "      <td>0</td>\n",
       "      <td>0</td>\n",
       "      <td>0</td>\n",
       "      <td>0</td>\n",
       "      <td>0</td>\n",
       "      <td>...</td>\n",
       "      <td>0</td>\n",
       "      <td>0</td>\n",
       "      <td>0</td>\n",
       "      <td>0</td>\n",
       "      <td>0</td>\n",
       "      <td>0</td>\n",
       "      <td>0</td>\n",
       "      <td>0</td>\n",
       "      <td>0</td>\n",
       "      <td>0</td>\n",
       "    </tr>\n",
       "    <tr>\n",
       "      <th>2</th>\n",
       "      <td>0</td>\n",
       "      <td>0</td>\n",
       "      <td>0</td>\n",
       "      <td>0</td>\n",
       "      <td>0</td>\n",
       "      <td>0</td>\n",
       "      <td>0</td>\n",
       "      <td>0</td>\n",
       "      <td>0</td>\n",
       "      <td>0</td>\n",
       "      <td>...</td>\n",
       "      <td>0</td>\n",
       "      <td>0</td>\n",
       "      <td>0</td>\n",
       "      <td>0</td>\n",
       "      <td>0</td>\n",
       "      <td>0</td>\n",
       "      <td>0</td>\n",
       "      <td>0</td>\n",
       "      <td>0</td>\n",
       "      <td>0</td>\n",
       "    </tr>\n",
       "    <tr>\n",
       "      <th>3</th>\n",
       "      <td>0</td>\n",
       "      <td>0</td>\n",
       "      <td>0</td>\n",
       "      <td>0</td>\n",
       "      <td>0</td>\n",
       "      <td>0</td>\n",
       "      <td>0</td>\n",
       "      <td>0</td>\n",
       "      <td>0</td>\n",
       "      <td>0</td>\n",
       "      <td>...</td>\n",
       "      <td>0</td>\n",
       "      <td>0</td>\n",
       "      <td>0</td>\n",
       "      <td>0</td>\n",
       "      <td>0</td>\n",
       "      <td>0</td>\n",
       "      <td>0</td>\n",
       "      <td>0</td>\n",
       "      <td>0</td>\n",
       "      <td>0</td>\n",
       "    </tr>\n",
       "    <tr>\n",
       "      <th>4</th>\n",
       "      <td>0</td>\n",
       "      <td>0</td>\n",
       "      <td>0</td>\n",
       "      <td>0</td>\n",
       "      <td>0</td>\n",
       "      <td>0</td>\n",
       "      <td>0</td>\n",
       "      <td>0</td>\n",
       "      <td>0</td>\n",
       "      <td>0</td>\n",
       "      <td>...</td>\n",
       "      <td>0</td>\n",
       "      <td>0</td>\n",
       "      <td>0</td>\n",
       "      <td>0</td>\n",
       "      <td>0</td>\n",
       "      <td>0</td>\n",
       "      <td>0</td>\n",
       "      <td>0</td>\n",
       "      <td>0</td>\n",
       "      <td>0</td>\n",
       "    </tr>\n",
       "  </tbody>\n",
       "</table>\n",
       "<p>5 rows × 784 columns</p>\n",
       "</div>"
      ],
      "text/plain": [
       "   pixel0  pixel1  pixel2  pixel3  pixel4  pixel5  pixel6  pixel7  pixel8  \\\n",
       "0       0       0       0       0       0       0       0       0       0   \n",
       "1       0       0       0       0       0       0       0       0       0   \n",
       "2       0       0       0       0       0       0       0       0       0   \n",
       "3       0       0       0       0       0       0       0       0       0   \n",
       "4       0       0       0       0       0       0       0       0       0   \n",
       "\n",
       "   pixel9  ...  pixel774  pixel775  pixel776  pixel777  pixel778  pixel779  \\\n",
       "0       0  ...         0         0         0         0         0         0   \n",
       "1       0  ...         0         0         0         0         0         0   \n",
       "2       0  ...         0         0         0         0         0         0   \n",
       "3       0  ...         0         0         0         0         0         0   \n",
       "4       0  ...         0         0         0         0         0         0   \n",
       "\n",
       "   pixel780  pixel781  pixel782  pixel783  \n",
       "0         0         0         0         0  \n",
       "1         0         0         0         0  \n",
       "2         0         0         0         0  \n",
       "3         0         0         0         0  \n",
       "4         0         0         0         0  \n",
       "\n",
       "[5 rows x 784 columns]"
      ]
     },
     "execution_count": 4,
     "metadata": {},
     "output_type": "execute_result"
    }
   ],
   "source": [
    "test.head(5)"
   ]
  },
  {
   "cell_type": "code",
   "execution_count": 5,
   "id": "862b492b",
   "metadata": {
    "execution": {
     "iopub.execute_input": "2022-06-06T05:23:14.023221Z",
     "iopub.status.busy": "2022-06-06T05:23:14.022682Z",
     "iopub.status.idle": "2022-06-06T05:23:14.238032Z",
     "shell.execute_reply": "2022-06-06T05:23:14.237325Z"
    },
    "papermill": {
     "duration": 0.225032,
     "end_time": "2022-06-06T05:23:14.239715",
     "exception": false,
     "start_time": "2022-06-06T05:23:14.014683",
     "status": "completed"
    },
    "tags": []
   },
   "outputs": [
    {
     "data": {
      "text/plain": [
       "<AxesSubplot:>"
      ]
     },
     "execution_count": 5,
     "metadata": {},
     "output_type": "execute_result"
    },
    {
     "data": {
      "image/png": "[encoded data removed]",
      "text/plain": [
       "<Figure size 432x288 with 1 Axes>"
      ]
     },
     "metadata": {
      "needs_background": "light"
     },
     "output_type": "display_data"
    }
   ],
   "source": [
    "train['label'].value_counts().plot.bar()"
   ]
  },
  {
   "cell_type": "code",
   "execution_count": 6,
   "id": "6872ae45",
   "metadata": {
    "execution": {
     "iopub.execute_input": "2022-06-06T05:23:14.256775Z",
     "iopub.status.busy": "2022-06-06T05:23:14.256496Z",
     "iopub.status.idle": "2022-06-06T05:23:14.262899Z",
     "shell.execute_reply": "2022-06-06T05:23:14.262157Z"
    },
    "papermill": {
     "duration": 0.01671,
     "end_time": "2022-06-06T05:23:14.264581",
     "exception": false,
     "start_time": "2022-06-06T05:23:14.247871",
     "status": "completed"
    },
    "tags": []
   },
   "outputs": [],
   "source": [
    "import random\n",
    "\n",
    "def row_to_image(df_row):\n",
    "    im_size = int(28 * 28)\n",
    "    im_vec = df_row[-im_size:]\n",
    "    image_arr = np.array(im_vec).reshape(28, 28, 1)\n",
    "    return image_arr / 255\n",
    "\n",
    "def show_examples(df):\n",
    "    total_num = df.shape[0]\n",
    "    indices = random.sample(range(0, total_num), 9)\n",
    "    fig, axs = plt.subplots(nrows=3, ncols=3, figsize=(10, 6))\n",
    "    for ax, i in zip(axs.flatten(), indices):\n",
    "        img = row_to_image(df.iloc[i])\n",
    "        ax.imshow(img)"
   ]
  },
  {
   "cell_type": "code",
   "execution_count": 7,
   "id": "25284102",
   "metadata": {
    "execution": {
     "iopub.execute_input": "2022-06-06T05:23:14.280966Z",
     "iopub.status.busy": "2022-06-06T05:23:14.280694Z",
     "iopub.status.idle": "2022-06-06T05:23:15.048630Z",
     "shell.execute_reply": "2022-06-06T05:23:15.047846Z"
    },
    "papermill": {
     "duration": 0.77828,
     "end_time": "2022-06-06T05:23:15.050532",
     "exception": false,
     "start_time": "2022-06-06T05:23:14.272252",
     "status": "completed"
    },
    "tags": []
   },
   "outputs": [
    {
     "data": {
      "image/png": "[encoded data removed]",
      "text/plain": [
       "<Figure size 720x432 with 9 Axes>"
      ]
     },
     "metadata": {
      "needs_background": "light"
     },
     "output_type": "display_data"
    }
   ],
   "source": [
    "show_examples(train)"
   ]
  },
  {
   "cell_type": "code",
   "execution_count": 8,
   "id": "549417d8",
   "metadata": {
    "execution": {
     "iopub.execute_input": "2022-06-06T05:23:15.069071Z",
     "iopub.status.busy": "2022-06-06T05:23:15.068756Z",
     "iopub.status.idle": "2022-06-06T05:23:15.749448Z",
     "shell.execute_reply": "2022-06-06T05:23:15.748704Z"
    },
    "papermill": {
     "duration": 0.69207,
     "end_time": "2022-06-06T05:23:15.751373",
     "exception": false,
     "start_time": "2022-06-06T05:23:15.059303",
     "status": "completed"
    },
    "tags": []
   },
   "outputs": [
    {
     "data": {
      "image/png": "[encoded data removed]",
      "text/plain": [
       "<Figure size 720x432 with 9 Axes>"
      ]
     },
     "metadata": {
      "needs_background": "light"
     },
     "output_type": "display_data"
    }
   ],
   "source": [
    "show_examples(test)"
   ]
  },
  {
   "cell_type": "code",
   "execution_count": 9,
   "id": "8eb8cbf5",
   "metadata": {
    "execution": {
     "iopub.execute_input": "2022-06-06T05:23:15.769297Z",
     "iopub.status.busy": "2022-06-06T05:23:15.768951Z",
     "iopub.status.idle": "2022-06-06T05:23:24.414826Z",
     "shell.execute_reply": "2022-06-06T05:23:24.413884Z"
    },
    "papermill": {
     "duration": 8.658245,
     "end_time": "2022-06-06T05:23:24.418111",
     "exception": false,
     "start_time": "2022-06-06T05:23:15.759866",
     "status": "completed"
    },
    "tags": []
   },
   "outputs": [],
   "source": [
    "x_train_total = []\n",
    "y_train_total = []\n",
    "\n",
    "for i in range(train.shape[0]):\n",
    "    x_train_total.append(row_to_image(train.iloc[i]))\n",
    "    y_train_total.append(int(train.iloc[i]['label']))"
   ]
  },
  {
   "cell_type": "code",
   "execution_count": 10,
   "id": "1d9b4669",
   "metadata": {
    "execution": {
     "iopub.execute_input": "2022-06-06T05:23:24.441107Z",
     "iopub.status.busy": "2022-06-06T05:23:24.440734Z",
     "iopub.status.idle": "2022-06-06T05:23:24.446378Z",
     "shell.execute_reply": "2022-06-06T05:23:24.445682Z"
    },
    "papermill": {
     "duration": 0.021737,
     "end_time": "2022-06-06T05:23:24.451930",
     "exception": false,
     "start_time": "2022-06-06T05:23:24.430193",
     "status": "completed"
    },
    "tags": []
   },
   "outputs": [
    {
     "name": "stdout",
     "output_type": "stream",
     "text": [
      "Total training set is of length: 42000, with elements in shape: (28, 28, 1)\n",
      "Labels are of length: 42000, of type: <class 'int'>\n"
     ]
    }
   ],
   "source": [
    "print('Total training set is of length: {}, with elements in shape: {}'.format(len(x_train_total), x_train_total[0].shape))\n",
    "print('Labels are of length: {}, of type: {}'.format(len(y_train_total), type(y_train_total[0])))"
   ]
  },
  {
   "cell_type": "code",
   "execution_count": 11,
   "id": "1970b2bc",
   "metadata": {
    "execution": {
     "iopub.execute_input": "2022-06-06T05:23:24.476003Z",
     "iopub.status.busy": "2022-06-06T05:23:24.475715Z",
     "iopub.status.idle": "2022-06-06T05:23:24.825371Z",
     "shell.execute_reply": "2022-06-06T05:23:24.824419Z"
    },
    "papermill": {
     "duration": 0.361978,
     "end_time": "2022-06-06T05:23:24.827298",
     "exception": false,
     "start_time": "2022-06-06T05:23:24.465320",
     "status": "completed"
    },
    "tags": []
   },
   "outputs": [
    {
     "name": "stdout",
     "output_type": "stream",
     "text": [
      "Label is: 6\n",
      "\n"
     ]
    },
    {
     "data": {
      "image/png": "[encoded data removed]",
      "text/plain": [
       "<Figure size 432x288 with 1 Axes>"
      ]
     },
     "metadata": {
      "needs_background": "light"
     },
     "output_type": "display_data"
    }
   ],
   "source": [
    "indices = np.arange(len(y_train_total), dtype=int)\n",
    "np.random.seed(42)\n",
    "np.random.shuffle(indices)\n",
    "\n",
    "x_train_shuffled = np.array(x_train_total)[indices]\n",
    "y_train_shuffled = np.array(y_train_total)[indices]\n",
    "\n",
    "# Check shuffled\n",
    "plt.imshow(x_train_shuffled[5])\n",
    "print('Label is: {}\\n'.format(y_train_shuffled[5]))"
   ]
  },
  {
   "cell_type": "code",
   "execution_count": 12,
   "id": "0683fbf1",
   "metadata": {
    "execution": {
     "iopub.execute_input": "2022-06-06T05:23:24.846282Z",
     "iopub.status.busy": "2022-06-06T05:23:24.845635Z",
     "iopub.status.idle": "2022-06-06T05:23:24.851739Z",
     "shell.execute_reply": "2022-06-06T05:23:24.850994Z"
    },
    "papermill": {
     "duration": 0.017924,
     "end_time": "2022-06-06T05:23:24.854107",
     "exception": false,
     "start_time": "2022-06-06T05:23:24.836183",
     "status": "completed"
    },
    "tags": []
   },
   "outputs": [
    {
     "name": "stdout",
     "output_type": "stream",
     "text": [
      "Train set length: 39900\n",
      "Validation set length: 2100\n"
     ]
    }
   ],
   "source": [
    "split_ratio = 0.95\n",
    "split_index = int(len(y_train_total) * split_ratio)\n",
    "\n",
    "x_train = x_train_shuffled[:split_index]\n",
    "y_train = y_train_shuffled[:split_index]\n",
    "\n",
    "x_valid = x_train_shuffled[split_index:]\n",
    "y_valid = y_train_shuffled[split_index:]\n",
    "\n",
    "assert len(x_train) == len(y_train), 'Train set length mismatch'\n",
    "assert len(x_valid) == len(y_valid), 'Validation set length mismatch'\n",
    "\n",
    "print('Train set length: {}\\nValidation set length: {}'.format(len(y_train), len(y_valid)))"
   ]
  },
  {
   "cell_type": "code",
   "execution_count": 13,
   "id": "d1c6b5c8",
   "metadata": {
    "execution": {
     "iopub.execute_input": "2022-06-06T05:23:24.873272Z",
     "iopub.status.busy": "2022-06-06T05:23:24.872808Z",
     "iopub.status.idle": "2022-06-06T05:23:25.725311Z",
     "shell.execute_reply": "2022-06-06T05:23:25.724477Z"
    },
    "papermill": {
     "duration": 0.8638,
     "end_time": "2022-06-06T05:23:25.727364",
     "exception": false,
     "start_time": "2022-06-06T05:23:24.863564",
     "status": "completed"
    },
    "tags": []
   },
   "outputs": [],
   "source": [
    "from tensorflow.keras.preprocessing.image import ImageDataGenerator\n",
    "\n",
    "datagen = ImageDataGenerator(\n",
    "    rotation_range = 10,\n",
    "    width_shift_range = 0.1,\n",
    "    height_shift_range = 0.1,\n",
    "    shear_range = 0.05,\n",
    "    zoom_range = 0.05,\n",
    "    fill_mode = 'nearest'\n",
    ")"
   ]
  },
  {
   "cell_type": "code",
   "execution_count": 14,
   "id": "4debc0ae",
   "metadata": {
    "execution": {
     "iopub.execute_input": "2022-06-06T05:23:25.746450Z",
     "iopub.status.busy": "2022-06-06T05:23:25.745825Z",
     "iopub.status.idle": "2022-06-06T05:23:25.755994Z",
     "shell.execute_reply": "2022-06-06T05:23:25.755192Z"
    },
    "papermill": {
     "duration": 0.021432,
     "end_time": "2022-06-06T05:23:25.757640",
     "exception": false,
     "start_time": "2022-06-06T05:23:25.736208",
     "status": "completed"
    },
    "tags": []
   },
   "outputs": [],
   "source": [
    "class DigitRecognizer(tf.keras.Model):\n",
    "    def __init__(self):\n",
    "        super().__init__(self)\n",
    "        self.input_layer = tf.keras.layers.Conv2D(128, (3,3), activation='relu', input_shape=[28,28,1])\n",
    "        self.conv1_layer = tf.keras.layers.Conv2D(64, (3,3), activation='relu')\n",
    "        self.conv2_layer = tf.keras.layers.Conv2D(32, (3,3), activation='relu')\n",
    "        self.max_pooling_layer = tf.keras.layers.MaxPooling2D(2,2)\n",
    "        self.flatten_layer = tf.keras.layers.Flatten()\n",
    "        self.dense1_layer = tf.keras.layers.Dense(256, activation='relu')\n",
    "        self.dense2_layer = tf.keras.layers.Dense(128, activation='relu')\n",
    "        self.dropout_layer = tf.keras.layers.Dropout(0.2)\n",
    "        self.output_layer = tf.keras.layers.Dense(10, activation='softmax')\n",
    "        \n",
    "    def call(self, input):\n",
    "        x = self.input_layer(input)\n",
    "        x = self.max_pooling_layer(x)\n",
    "        x = self.conv1_layer(x)\n",
    "        x = self.max_pooling_layer(x)\n",
    "        x = self.conv2_layer(x)\n",
    "        x = self.max_pooling_layer(x)\n",
    "        x = self.flatten_layer(x)\n",
    "        x = self.dense1_layer(x)\n",
    "        x = self.dropout_layer(x)\n",
    "        x = self.dense2_layer(x)\n",
    "        x = self.dropout_layer(x)\n",
    "        x = self.output_layer(x)\n",
    "        return x"
   ]
  },
  {
   "cell_type": "code",
   "execution_count": 15,
   "id": "48749059",
   "metadata": {
    "execution": {
     "iopub.execute_input": "2022-06-06T05:23:25.776209Z",
     "iopub.status.busy": "2022-06-06T05:23:25.775617Z",
     "iopub.status.idle": "2022-06-06T05:23:34.853922Z",
     "shell.execute_reply": "2022-06-06T05:23:34.852281Z"
    },
    "papermill": {
     "duration": 9.09004,
     "end_time": "2022-06-06T05:23:34.856245",
     "exception": false,
     "start_time": "2022-06-06T05:23:25.766205",
     "status": "completed"
    },
    "tags": []
   },
   "outputs": [
    {
     "name": "stderr",
     "output_type": "stream",
     "text": [
      "2022-06-06 05:23:25.864116: I tensorflow/stream_executor/cuda/cuda_gpu_executor.cc:937] successful NUMA node read from SysFS had negative value (-1), but there must be at least one NUMA node, so returning NUMA node zero\n",
      "2022-06-06 05:23:26.020856: I tensorflow/stream_executor/cuda/cuda_gpu_executor.cc:937] successful NUMA node read from SysFS had negative value (-1), but there must be at least one NUMA node, so returning NUMA node zero\n",
      "2022-06-06 05:23:26.021603: I tensorflow/stream_executor/cuda/cuda_gpu_executor.cc:937] successful NUMA node read from SysFS had negative value (-1), but there must be at least one NUMA node, so returning NUMA node zero\n",
      "2022-06-06 05:23:26.022787: I tensorflow/core/platform/cpu_feature_guard.cc:142] This TensorFlow binary is optimized with oneAPI Deep Neural Network Library (oneDNN) to use the following CPU instructions in performance-critical operations:  AVX2 AVX512F FMA\n",
      "To enable them in other operations, rebuild TensorFlow with the appropriate compiler flags.\n",
      "2022-06-06 05:23:26.023091: I tensorflow/stream_executor/cuda/cuda_gpu_executor.cc:937] successful NUMA node read from SysFS had negative value (-1), but there must be at least one NUMA node, so returning NUMA node zero\n",
      "2022-06-06 05:23:26.023768: I tensorflow/stream_executor/cuda/cuda_gpu_executor.cc:937] successful NUMA node read from SysFS had negative value (-1), but there must be at least one NUMA node, so returning NUMA node zero\n",
      "2022-06-06 05:23:26.024392: I tensorflow/stream_executor/cuda/cuda_gpu_executor.cc:937] successful NUMA node read from SysFS had negative value (-1), but there must be at least one NUMA node, so returning NUMA node zero\n",
      "2022-06-06 05:23:28.351839: I tensorflow/stream_executor/cuda/cuda_gpu_executor.cc:937] successful NUMA node read from SysFS had negative value (-1), but there must be at least one NUMA node, so returning NUMA node zero\n",
      "2022-06-06 05:23:28.352757: I tensorflow/stream_executor/cuda/cuda_gpu_executor.cc:937] successful NUMA node read from SysFS had negative value (-1), but there must be at least one NUMA node, so returning NUMA node zero\n",
      "2022-06-06 05:23:28.353495: I tensorflow/stream_executor/cuda/cuda_gpu_executor.cc:937] successful NUMA node read from SysFS had negative value (-1), but there must be at least one NUMA node, so returning NUMA node zero\n",
      "2022-06-06 05:23:28.354123: I tensorflow/core/common_runtime/gpu/gpu_device.cc:1510] Created device /job:localhost/replica:0/task:0/device:GPU:0 with 15403 MB memory:  -> device: 0, name: Tesla P100-PCIE-16GB, pci bus id: 0000:00:04.0, compute capability: 6.0\n",
      "2022-06-06 05:23:29.593012: I tensorflow/stream_executor/cuda/cuda_dnn.cc:369] Loaded cuDNN version 8005\n"
     ]
    },
    {
     "name": "stdout",
     "output_type": "stream",
     "text": [
      "(1, 10)\n"
     ]
    }
   ],
   "source": [
    "model = DigitRecognizer()\n",
    "model.compile(loss='sparse_categorical_crossentropy', optimizer='adam', metrics=['accuracy'])\n",
    "\n",
    "# Example prediction\n",
    "example_prediction = model(np.expand_dims(x_train[0], axis=0))\n",
    "print(example_prediction.shape)"
   ]
  },
  {
   "cell_type": "code",
   "execution_count": 16,
   "id": "23d4b95a",
   "metadata": {
    "execution": {
     "iopub.execute_input": "2022-06-06T05:23:34.875881Z",
     "iopub.status.busy": "2022-06-06T05:23:34.875599Z",
     "iopub.status.idle": "2022-06-06T05:23:34.885062Z",
     "shell.execute_reply": "2022-06-06T05:23:34.883554Z"
    },
    "papermill": {
     "duration": 0.02139,
     "end_time": "2022-06-06T05:23:34.887229",
     "exception": false,
     "start_time": "2022-06-06T05:23:34.865839",
     "status": "completed"
    },
    "tags": []
   },
   "outputs": [
    {
     "name": "stdout",
     "output_type": "stream",
     "text": [
      "Model: \"digit_recognizer\"\n",
      "_________________________________________________________________\n",
      "Layer (type)                 Output Shape              Param #   \n",
      "=================================================================\n",
      "conv2d (Conv2D)              multiple                  1280      \n",
      "_________________________________________________________________\n",
      "conv2d_1 (Conv2D)            multiple                  73792     \n",
      "_________________________________________________________________\n",
      "conv2d_2 (Conv2D)            multiple                  18464     \n",
      "_________________________________________________________________\n",
      "max_pooling2d (MaxPooling2D) multiple                  0         \n",
      "_________________________________________________________________\n",
      "flatten (Flatten)            multiple                  0         \n",
      "_________________________________________________________________\n",
      "dense (Dense)                multiple                  8448      \n",
      "_________________________________________________________________\n",
      "dense_1 (Dense)              multiple                  32896     \n",
      "_________________________________________________________________\n",
      "dropout (Dropout)            multiple                  0         \n",
      "_________________________________________________________________\n",
      "dense_2 (Dense)              multiple                  1290      \n",
      "=================================================================\n",
      "Total params: 136,170\n",
      "Trainable params: 136,170\n",
      "Non-trainable params: 0\n",
      "_________________________________________________________________\n"
     ]
    }
   ],
   "source": [
    "model.summary()\n",
    "init_weights = model.get_weights()"
   ]
  },
  {
   "cell_type": "code",
   "execution_count": 17,
   "id": "8e509d08",
   "metadata": {
    "execution": {
     "iopub.execute_input": "2022-06-06T05:23:34.906414Z",
     "iopub.status.busy": "2022-06-06T05:23:34.906157Z",
     "iopub.status.idle": "2022-06-06T05:23:34.909673Z",
     "shell.execute_reply": "2022-06-06T05:23:34.908847Z"
    },
    "papermill": {
     "duration": 0.014772,
     "end_time": "2022-06-06T05:23:34.911357",
     "exception": false,
     "start_time": "2022-06-06T05:23:34.896585",
     "status": "completed"
    },
    "tags": []
   },
   "outputs": [],
   "source": [
    "TRAIN = True"
   ]
  },
  {
   "cell_type": "code",
   "execution_count": 18,
   "id": "221a468f",
   "metadata": {
    "execution": {
     "iopub.execute_input": "2022-06-06T05:23:34.930012Z",
     "iopub.status.busy": "2022-06-06T05:23:34.929469Z",
     "iopub.status.idle": "2022-06-06T05:30:55.054434Z",
     "shell.execute_reply": "2022-06-06T05:30:55.053631Z"
    },
    "papermill": {
     "duration": 440.13666,
     "end_time": "2022-06-06T05:30:55.056746",
     "exception": false,
     "start_time": "2022-06-06T05:23:34.920086",
     "status": "completed"
    },
    "tags": []
   },
   "outputs": [
    {
     "name": "stderr",
     "output_type": "stream",
     "text": [
      "2022-06-06 05:23:35.063481: I tensorflow/compiler/mlir/mlir_graph_optimization_pass.cc:185] None of the MLIR Optimization Passes are enabled (registered 2)\n"
     ]
    },
    {
     "name": "stdout",
     "output_type": "stream",
     "text": [
      "Epoch 1/30\n",
      "1246/1246 [==============================] - 16s 12ms/step - loss: 0.5031 - accuracy: 0.8330 - val_loss: 0.1375 - val_accuracy: 0.9605\n",
      "Epoch 2/30\n",
      "1246/1246 [==============================] - 14s 11ms/step - loss: 0.1909 - accuracy: 0.9410 - val_loss: 0.0737 - val_accuracy: 0.9800\n",
      "Epoch 3/30\n",
      "1246/1246 [==============================] - 14s 11ms/step - loss: 0.1485 - accuracy: 0.9541 - val_loss: 0.0803 - val_accuracy: 0.9757\n",
      "Epoch 4/30\n",
      "1246/1246 [==============================] - 14s 11ms/step - loss: 0.1304 - accuracy: 0.9614 - val_loss: 0.0760 - val_accuracy: 0.9752\n",
      "Epoch 5/30\n",
      "1246/1246 [==============================] - 13s 11ms/step - loss: 0.1160 - accuracy: 0.9641 - val_loss: 0.0556 - val_accuracy: 0.9833\n",
      "Epoch 6/30\n",
      "1246/1246 [==============================] - 14s 11ms/step - loss: 0.1052 - accuracy: 0.9675 - val_loss: 0.0681 - val_accuracy: 0.9786\n",
      "Epoch 7/30\n",
      "1246/1246 [==============================] - 14s 11ms/step - loss: 0.1013 - accuracy: 0.9697 - val_loss: 0.0562 - val_accuracy: 0.9819\n",
      "Epoch 8/30\n",
      "1246/1246 [==============================] - 15s 12ms/step - loss: 0.0958 - accuracy: 0.9712 - val_loss: 0.0581 - val_accuracy: 0.9833\n",
      "Epoch 9/30\n",
      "1246/1246 [==============================] - 14s 11ms/step - loss: 0.0905 - accuracy: 0.9719 - val_loss: 0.0658 - val_accuracy: 0.9786\n",
      "Epoch 10/30\n",
      "1246/1246 [==============================] - 14s 11ms/step - loss: 0.0904 - accuracy: 0.9721 - val_loss: 0.0478 - val_accuracy: 0.9890\n",
      "Epoch 11/30\n",
      "1246/1246 [==============================] - 14s 11ms/step - loss: 0.0846 - accuracy: 0.9751 - val_loss: 0.0615 - val_accuracy: 0.9848\n",
      "Epoch 12/30\n",
      "1246/1246 [==============================] - 14s 11ms/step - loss: 0.0830 - accuracy: 0.9756 - val_loss: 0.0342 - val_accuracy: 0.9895\n",
      "Epoch 13/30\n",
      "1246/1246 [==============================] - 15s 12ms/step - loss: 0.0822 - accuracy: 0.9757 - val_loss: 0.0428 - val_accuracy: 0.9886\n",
      "Epoch 14/30\n",
      "1246/1246 [==============================] - 14s 11ms/step - loss: 0.0776 - accuracy: 0.9770 - val_loss: 0.0541 - val_accuracy: 0.9867\n",
      "Epoch 15/30\n",
      "1246/1246 [==============================] - 14s 11ms/step - loss: 0.0787 - accuracy: 0.9765 - val_loss: 0.0481 - val_accuracy: 0.9881\n",
      "Epoch 16/30\n",
      "1246/1246 [==============================] - 14s 12ms/step - loss: 0.0740 - accuracy: 0.9776 - val_loss: 0.0525 - val_accuracy: 0.9867\n",
      "Epoch 17/30\n",
      "1246/1246 [==============================] - 13s 11ms/step - loss: 0.0742 - accuracy: 0.9775 - val_loss: 0.0514 - val_accuracy: 0.9857\n",
      "Epoch 18/30\n",
      "1246/1246 [==============================] - 15s 12ms/step - loss: 0.0718 - accuracy: 0.9779 - val_loss: 0.0527 - val_accuracy: 0.9857\n",
      "Epoch 19/30\n",
      "1246/1246 [==============================] - 13s 11ms/step - loss: 0.0710 - accuracy: 0.9784 - val_loss: 0.0610 - val_accuracy: 0.9810\n",
      "Epoch 20/30\n",
      "1246/1246 [==============================] - 15s 12ms/step - loss: 0.0681 - accuracy: 0.9793 - val_loss: 0.0357 - val_accuracy: 0.9910\n",
      "Epoch 21/30\n",
      "1246/1246 [==============================] - 13s 11ms/step - loss: 0.0680 - accuracy: 0.9784 - val_loss: 0.0447 - val_accuracy: 0.9876\n",
      "Epoch 22/30\n",
      "1246/1246 [==============================] - 14s 11ms/step - loss: 0.0686 - accuracy: 0.9791 - val_loss: 0.0446 - val_accuracy: 0.9871\n",
      "Epoch 23/30\n",
      "1246/1246 [==============================] - 13s 11ms/step - loss: 0.0692 - accuracy: 0.9791 - val_loss: 0.0409 - val_accuracy: 0.9895\n",
      "Epoch 24/30\n",
      "1246/1246 [==============================] - 14s 12ms/step - loss: 0.0667 - accuracy: 0.9792 - val_loss: 0.0455 - val_accuracy: 0.9886\n",
      "Epoch 25/30\n",
      "1246/1246 [==============================] - 13s 11ms/step - loss: 0.0667 - accuracy: 0.9797 - val_loss: 0.0571 - val_accuracy: 0.9838\n",
      "Epoch 26/30\n",
      "1246/1246 [==============================] - 14s 11ms/step - loss: 0.0624 - accuracy: 0.9814 - val_loss: 0.0377 - val_accuracy: 0.9900\n",
      "Epoch 27/30\n",
      "1246/1246 [==============================] - 14s 11ms/step - loss: 0.0632 - accuracy: 0.9810 - val_loss: 0.0542 - val_accuracy: 0.9881\n",
      "Epoch 28/30\n",
      "1246/1246 [==============================] - 15s 12ms/step - loss: 0.0644 - accuracy: 0.9810 - val_loss: 0.0536 - val_accuracy: 0.9857\n",
      "Epoch 29/30\n",
      "1246/1246 [==============================] - 13s 11ms/step - loss: 0.0613 - accuracy: 0.9814 - val_loss: 0.0534 - val_accuracy: 0.9862\n",
      "Epoch 30/30\n",
      "1246/1246 [==============================] - 14s 11ms/step - loss: 0.0612 - accuracy: 0.9813 - val_loss: 0.0444 - val_accuracy: 0.9886\n"
     ]
    }
   ],
   "source": [
    "if TRAIN:\n",
    "\n",
    "    epochs = 30\n",
    "\n",
    "    model.set_weights(init_weights)\n",
    "\n",
    "    history = model.fit(\n",
    "        datagen.flow(x_train, y_train, batch_size=32),\n",
    "        validation_data=(x_valid, y_valid),\n",
    "        steps_per_epoch=len(x_train) / 32,\n",
    "        epochs=epochs\n",
    "    )\n",
    "    \n",
    "    model.save_weights('/kaggle/working/mk0_weights')\n",
    "    np.save('/kaggle/working/mk0_history.npy', history.history)"
   ]
  },
  {
   "cell_type": "code",
   "execution_count": 19,
   "id": "6677696d",
   "metadata": {
    "execution": {
     "iopub.execute_input": "2022-06-06T05:30:56.008225Z",
     "iopub.status.busy": "2022-06-06T05:30:56.007870Z",
     "iopub.status.idle": "2022-06-06T05:30:56.012249Z",
     "shell.execute_reply": "2022-06-06T05:30:56.011502Z"
    },
    "papermill": {
     "duration": 0.457877,
     "end_time": "2022-06-06T05:30:56.014035",
     "exception": false,
     "start_time": "2022-06-06T05:30:55.556158",
     "status": "completed"
    },
    "tags": []
   },
   "outputs": [],
   "source": [
    "if not TRAIN:\n",
    "    model.load_weights('/kaggle/working/mk0_weights')\n",
    "    history=np.load('/kaggle/working/mk0_history.npy',allow_pickle='TRUE').item()"
   ]
  },
  {
   "cell_type": "code",
   "execution_count": 20,
   "id": "4f0ce530",
   "metadata": {
    "execution": {
     "iopub.execute_input": "2022-06-06T05:30:56.911333Z",
     "iopub.status.busy": "2022-06-06T05:30:56.910987Z",
     "iopub.status.idle": "2022-06-06T05:30:57.109470Z",
     "shell.execute_reply": "2022-06-06T05:30:57.108761Z"
    },
    "papermill": {
     "duration": 0.648271,
     "end_time": "2022-06-06T05:30:57.111146",
     "exception": false,
     "start_time": "2022-06-06T05:30:56.462875",
     "status": "completed"
    },
    "tags": []
   },
   "outputs": [
    {
     "data": {
      "image/png": "[encoded data removed]",
      "text/plain": [
       "<Figure size 432x288 with 1 Axes>"
      ]
     },
     "metadata": {
      "needs_background": "light"
     },
     "output_type": "display_data"
    },
    {
     "data": {
      "text/plain": [
       "<Figure size 432x288 with 0 Axes>"
      ]
     },
     "metadata": {},
     "output_type": "display_data"
    }
   ],
   "source": [
    "history = history.history if TRAIN else history\n",
    "\n",
    "acc = history['accuracy']\n",
    "val_acc = history['val_accuracy']\n",
    "loss = history['loss']\n",
    "val_loss = history['val_loss']\n",
    "\n",
    "epochs = range(len(acc))\n",
    "\n",
    "plt.plot(epochs, acc, 'r', label='Training accuracy')\n",
    "plt.plot(epochs, val_acc, 'b', label='Validation accuracy')\n",
    "plt.title('Training and validation accuracy')\n",
    "plt.legend(loc=0)\n",
    "plt.figure()\n",
    "\n",
    "plt.show()"
   ]
  },
  {
   "cell_type": "code",
   "execution_count": 21,
   "id": "3e09f98d",
   "metadata": {
    "execution": {
     "iopub.execute_input": "2022-06-06T05:30:58.054337Z",
     "iopub.status.busy": "2022-06-06T05:30:58.053989Z",
     "iopub.status.idle": "2022-06-06T05:30:58.230753Z",
     "shell.execute_reply": "2022-06-06T05:30:58.230071Z"
    },
    "papermill": {
     "duration": 0.628365,
     "end_time": "2022-06-06T05:30:58.232398",
     "exception": false,
     "start_time": "2022-06-06T05:30:57.604033",
     "status": "completed"
    },
    "tags": []
   },
   "outputs": [
    {
     "data": {
      "image/png": "[encoded data removed]",
      "text/plain": [
       "<Figure size 432x288 with 1 Axes>"
      ]
     },
     "metadata": {
      "needs_background": "light"
     },
     "output_type": "display_data"
    },
    {
     "data": {
      "text/plain": [
       "<Figure size 432x288 with 0 Axes>"
      ]
     },
     "metadata": {},
     "output_type": "display_data"
    }
   ],
   "source": [
    "plt.plot(epochs, loss, 'r', label='Training loss')\n",
    "plt.plot(epochs, val_loss, 'b', label='Validation loss')\n",
    "plt.title('Training and validation loss')\n",
    "plt.legend(loc=0)\n",
    "plt.figure()\n",
    "\n",
    "plt.show()"
   ]
  },
  {
   "cell_type": "code",
   "execution_count": 22,
   "id": "c3105c6d",
   "metadata": {
    "execution": {
     "iopub.execute_input": "2022-06-06T05:30:59.180052Z",
     "iopub.status.busy": "2022-06-06T05:30:59.179695Z",
     "iopub.status.idle": "2022-06-06T05:31:03.133775Z",
     "shell.execute_reply": "2022-06-06T05:31:03.132760Z"
    },
    "papermill": {
     "duration": 4.45107,
     "end_time": "2022-06-06T05:31:03.136534",
     "exception": false,
     "start_time": "2022-06-06T05:30:58.685464",
     "status": "completed"
    },
    "tags": []
   },
   "outputs": [],
   "source": [
    "x_test = []\n",
    "\n",
    "for i in range(test.shape[0]):\n",
    "    x_test.append(row_to_image(test.iloc[i]))\n",
    "    \n",
    "x_test = np.array(x_test)"
   ]
  },
  {
   "cell_type": "code",
   "execution_count": 23,
   "id": "95085df0",
   "metadata": {
    "execution": {
     "iopub.execute_input": "2022-06-06T05:31:04.030388Z",
     "iopub.status.busy": "2022-06-06T05:31:04.029882Z",
     "iopub.status.idle": "2022-06-06T05:31:04.318588Z",
     "shell.execute_reply": "2022-06-06T05:31:04.317853Z"
    },
    "papermill": {
     "duration": 0.736911,
     "end_time": "2022-06-06T05:31:04.320396",
     "exception": false,
     "start_time": "2022-06-06T05:31:03.583485",
     "status": "completed"
    },
    "tags": []
   },
   "outputs": [
    {
     "name": "stdout",
     "output_type": "stream",
     "text": [
      "Prediction: 1\n"
     ]
    },
    {
     "data": {
      "text/plain": [
       "<matplotlib.image.AxesImage at 0x7fbcf422c4d0>"
      ]
     },
     "execution_count": 23,
     "metadata": {},
     "output_type": "execute_result"
    },
    {
     "data": {
      "image/png": "[encoded data removed]",
      "text/plain": [
       "<Figure size 432x288 with 1 Axes>"
      ]
     },
     "metadata": {
      "needs_background": "light"
     },
     "output_type": "display_data"
    }
   ],
   "source": [
    "# Sample Prediction\n",
    "ind = random.randint(0, x_test.shape[0])\n",
    "\n",
    "pred = model.predict(np.expand_dims(x_test[ind], axis=0))\n",
    "print('Prediction: {}'.format(np.argmax(pred[0])))\n",
    "plt.imshow(x_test[ind])"
   ]
  },
  {
   "cell_type": "code",
   "execution_count": 24,
   "id": "af4ca0ed",
   "metadata": {
    "execution": {
     "iopub.execute_input": "2022-06-06T05:31:05.285452Z",
     "iopub.status.busy": "2022-06-06T05:31:05.285082Z",
     "iopub.status.idle": "2022-06-06T05:31:10.649579Z",
     "shell.execute_reply": "2022-06-06T05:31:10.648457Z"
    },
    "papermill": {
     "duration": 5.833347,
     "end_time": "2022-06-06T05:31:10.652507",
     "exception": false,
     "start_time": "2022-06-06T05:31:04.819160",
     "status": "completed"
    },
    "tags": []
   },
   "outputs": [],
   "source": [
    "predictions = model.predict(x_test, batch_size=10)"
   ]
  },
  {
   "cell_type": "code",
   "execution_count": 25,
   "id": "e8463cd7",
   "metadata": {
    "execution": {
     "iopub.execute_input": "2022-06-06T05:31:11.702433Z",
     "iopub.status.busy": "2022-06-06T05:31:11.702085Z",
     "iopub.status.idle": "2022-06-06T05:31:11.707143Z",
     "shell.execute_reply": "2022-06-06T05:31:11.706388Z"
    },
    "papermill": {
     "duration": 0.516538,
     "end_time": "2022-06-06T05:31:11.709007",
     "exception": false,
     "start_time": "2022-06-06T05:31:11.192469",
     "status": "completed"
    },
    "tags": []
   },
   "outputs": [],
   "source": [
    "preds = np.argmax(predictions, axis=1)\n",
    "ids = np.arange(1, len(preds) + 1)"
   ]
  },
  {
   "cell_type": "code",
   "execution_count": 26,
   "id": "815a6f44",
   "metadata": {
    "execution": {
     "iopub.execute_input": "2022-06-06T05:31:12.602826Z",
     "iopub.status.busy": "2022-06-06T05:31:12.602440Z",
     "iopub.status.idle": "2022-06-06T05:31:12.787556Z",
     "shell.execute_reply": "2022-06-06T05:31:12.786754Z"
    },
    "papermill": {
     "duration": 0.640253,
     "end_time": "2022-06-06T05:31:12.789380",
     "exception": false,
     "start_time": "2022-06-06T05:31:12.149127",
     "status": "completed"
    },
    "tags": []
   },
   "outputs": [
    {
     "data": {
      "text/plain": [
       "<AxesSubplot:>"
      ]
     },
     "execution_count": 26,
     "metadata": {},
     "output_type": "execute_result"
    },
    {
     "data": {
      "image/png": "[encoded data removed]",
      "text/plain": [
       "<Figure size 432x288 with 1 Axes>"
      ]
     },
     "metadata": {
      "needs_background": "light"
     },
     "output_type": "display_data"
    }
   ],
   "source": [
    "my_submission = pd.DataFrame({'ImageId': ids, 'Label': preds})\n",
    "my_submission['Label'].value_counts().plot.bar()"
   ]
  },
  {
   "cell_type": "code",
   "execution_count": 27,
   "id": "b5616d14",
   "metadata": {
    "execution": {
     "iopub.execute_input": "2022-06-06T05:31:13.727742Z",
     "iopub.status.busy": "2022-06-06T05:31:13.727390Z",
     "iopub.status.idle": "2022-06-06T05:31:13.736416Z",
     "shell.execute_reply": "2022-06-06T05:31:13.735614Z"
    },
    "papermill": {
     "duration": 0.455938,
     "end_time": "2022-06-06T05:31:13.738073",
     "exception": false,
     "start_time": "2022-06-06T05:31:13.282135",
     "status": "completed"
    },
    "tags": []
   },
   "outputs": [
    {
     "data": {
      "text/html": [
       "<div>\n",
       "<style scoped>\n",
       "    .dataframe tbody tr th:only-of-type {\n",
       "        vertical-align: middle;\n",
       "    }\n",
       "\n",
       "    .dataframe tbody tr th {\n",
       "        vertical-align: top;\n",
       "    }\n",
       "\n",
       "    .dataframe thead th {\n",
       "        text-align: right;\n",
       "    }\n",
       "</style>\n",
       "<table border=\"1\" class=\"dataframe\">\n",
       "  <thead>\n",
       "    <tr style=\"text-align: right;\">\n",
       "      <th></th>\n",
       "      <th>ImageId</th>\n",
       "      <th>Label</th>\n",
       "    </tr>\n",
       "  </thead>\n",
       "  <tbody>\n",
       "    <tr>\n",
       "      <th>0</th>\n",
       "      <td>1</td>\n",
       "      <td>2</td>\n",
       "    </tr>\n",
       "    <tr>\n",
       "      <th>1</th>\n",
       "      <td>2</td>\n",
       "      <td>0</td>\n",
       "    </tr>\n",
       "    <tr>\n",
       "      <th>2</th>\n",
       "      <td>3</td>\n",
       "      <td>9</td>\n",
       "    </tr>\n",
       "    <tr>\n",
       "      <th>3</th>\n",
       "      <td>4</td>\n",
       "      <td>9</td>\n",
       "    </tr>\n",
       "    <tr>\n",
       "      <th>4</th>\n",
       "      <td>5</td>\n",
       "      <td>3</td>\n",
       "    </tr>\n",
       "  </tbody>\n",
       "</table>\n",
       "</div>"
      ],
      "text/plain": [
       "   ImageId  Label\n",
       "0        1      2\n",
       "1        2      0\n",
       "2        3      9\n",
       "3        4      9\n",
       "4        5      3"
      ]
     },
     "execution_count": 27,
     "metadata": {},
     "output_type": "execute_result"
    }
   ],
   "source": [
    "my_submission.head(5)"
   ]
  },
  {
   "cell_type": "code",
   "execution_count": 28,
   "id": "06f5e40e",
   "metadata": {
    "execution": {
     "iopub.execute_input": "2022-06-06T05:31:14.639350Z",
     "iopub.status.busy": "2022-06-06T05:31:14.638989Z",
     "iopub.status.idle": "2022-06-06T05:31:14.990104Z",
     "shell.execute_reply": "2022-06-06T05:31:14.988871Z"
    },
    "papermill": {
     "duration": 0.809382,
     "end_time": "2022-06-06T05:31:14.992205",
     "exception": false,
     "start_time": "2022-06-06T05:31:14.182823",
     "status": "completed"
    },
    "tags": []
   },
   "outputs": [
    {
     "name": "stdout",
     "output_type": "stream",
     "text": [
      "2\n"
     ]
    },
    {
     "data": {
      "text/plain": [
       "<matplotlib.image.AxesImage at 0x7fbd11b38290>"
      ]
     },
     "execution_count": 28,
     "metadata": {},
     "output_type": "execute_result"
    },
    {
     "data": {
      "image/png": "[encoded data removed]",
      "text/plain": [
       "<Figure size 432x288 with 1 Axes>"
      ]
     },
     "metadata": {
      "needs_background": "light"
     },
     "output_type": "display_data"
    }
   ],
   "source": [
    "print(my_submission.iloc[0]['Label'])\n",
    "plt.imshow(x_test[0])"
   ]
  },
  {
   "cell_type": "code",
   "execution_count": 29,
   "id": "3d1b4e88",
   "metadata": {
    "execution": {
     "iopub.execute_input": "2022-06-06T05:31:15.932187Z",
     "iopub.status.busy": "2022-06-06T05:31:15.931397Z",
     "iopub.status.idle": "2022-06-06T05:31:15.973822Z",
     "shell.execute_reply": "2022-06-06T05:31:15.973092Z"
    },
    "papermill": {
     "duration": 0.489794,
     "end_time": "2022-06-06T05:31:15.975649",
     "exception": false,
     "start_time": "2022-06-06T05:31:15.485855",
     "status": "completed"
    },
    "tags": []
   },
   "outputs": [],
   "source": [
    "my_submission.to_csv('submission.csv', index=False)"
   ]
  },
  {
   "cell_type": "code",
   "execution_count": null,
   "id": "402928ff",
   "metadata": {
    "papermill": {
     "duration": 0.516176,
     "end_time": "2022-06-06T05:31:16.959375",
     "exception": false,
     "start_time": "2022-06-06T05:31:16.443199",
     "status": "completed"
    },
    "tags": []
   },
   "outputs": [],
   "source": []
  }
 ],
 "metadata": {
  "kernelspec": {
   "display_name": "Python 3",
   "language": "python",
   "name": "python3"
  },
  "language_info": {
   "codemirror_mode": {
    "name": "ipython",
    "version": 3
   },
   "file_extension": ".py",
   "mimetype": "text/x-python",
   "name": "python",
   "nbconvert_exporter": "python",
   "pygments_lexer": "ipython3",
   "version": "3.7.12"
  },
  "papermill": {
   "default_parameters": {},
   "duration": 503.697149,
   "end_time": "2022-06-06T05:31:20.340797",
   "environment_variables": {},
   "exception": null,
   "input_path": "__notebook__.ipynb",
   "output_path": "__notebook__.ipynb",
   "parameters": {},
   "start_time": "2022-06-06T05:22:56.643648",
   "version": "2.3.4"
  }
 },
 "nbformat": 4,
 "nbformat_minor": 5
}
