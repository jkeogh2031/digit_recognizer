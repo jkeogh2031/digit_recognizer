{
 "cells": [
  {
   "cell_type": "code",
   "execution_count": 1,
   "id": "55282da3",
   "metadata": {
    "_cell_guid": "b1076dfc-b9ad-4769-8c92-a6c4dae69d19",
    "_uuid": "8f2839f25d086af736a60e9eeb907d3b93b6e0e5",
    "execution": {
     "iopub.execute_input": "2022-07-17T13:32:08.128662Z",
     "iopub.status.busy": "2022-07-17T13:32:08.127644Z",
     "iopub.status.idle": "2022-07-17T13:32:13.019520Z",
     "shell.execute_reply": "2022-07-17T13:32:13.017989Z"
    },
    "papermill": {
     "duration": 4.904953,
     "end_time": "2022-07-17T13:32:13.022372",
     "exception": false,
     "start_time": "2022-07-17T13:32:08.117419",
     "status": "completed"
    },
    "tags": []
   },
   "outputs": [
    {
     "name": "stdout",
     "output_type": "stream",
     "text": [
      "/kaggle/input/digit-recognizer/sample_submission.csv\n",
      "/kaggle/input/digit-recognizer/train.csv\n",
      "/kaggle/input/digit-recognizer/test.csv\n",
      "2.6.4\n"
     ]
    }
   ],
   "source": [
    "import os\n",
    "import numpy as np\n",
    "import pandas as pd\n",
    "import tensorflow as tf\n",
    "import matplotlib.pyplot as plt\n",
    "\n",
    "import os\n",
    "for dirname, _, filenames in os.walk('/kaggle/input'):\n",
    "    for filename in filenames:\n",
    "        print(os.path.join(dirname, filename))\n",
    "        \n",
    "print(tf.__version__)"
   ]
  },
  {
   "cell_type": "code",
   "execution_count": 2,
   "id": "a60bce50",
   "metadata": {
    "execution": {
     "iopub.execute_input": "2022-07-17T13:32:13.040919Z",
     "iopub.status.busy": "2022-07-17T13:32:13.039998Z",
     "iopub.status.idle": "2022-07-17T13:32:18.588101Z",
     "shell.execute_reply": "2022-07-17T13:32:18.587200Z"
    },
    "papermill": {
     "duration": 5.560498,
     "end_time": "2022-07-17T13:32:18.591016",
     "exception": false,
     "start_time": "2022-07-17T13:32:13.030518",
     "status": "completed"
    },
    "tags": []
   },
   "outputs": [],
   "source": [
    "base_fp = '/kaggle/input/digit-recognizer'\n",
    "train_fp = os.path.join(base_fp, 'train.csv')\n",
    "test_fp = os.path.join(base_fp, 'test.csv')\n",
    "\n",
    "train = pd.read_csv(train_fp)\n",
    "test = pd.read_csv(test_fp)"
   ]
  },
  {
   "cell_type": "code",
   "execution_count": 3,
   "id": "9d33d803",
   "metadata": {
    "execution": {
     "iopub.execute_input": "2022-07-17T13:32:18.610814Z",
     "iopub.status.busy": "2022-07-17T13:32:18.610465Z",
     "iopub.status.idle": "2022-07-17T13:32:18.634442Z",
     "shell.execute_reply": "2022-07-17T13:32:18.633460Z"
    },
    "papermill": {
     "duration": 0.036526,
     "end_time": "2022-07-17T13:32:18.637064",
     "exception": false,
     "start_time": "2022-07-17T13:32:18.600538",
     "status": "completed"
    },
    "tags": []
   },
   "outputs": [
    {
     "data": {
      "text/html": [
       "<div>\n",
       "<style scoped>\n",
       "    .dataframe tbody tr th:only-of-type {\n",
       "        vertical-align: middle;\n",
       "    }\n",
       "\n",
       "    .dataframe tbody tr th {\n",
       "        vertical-align: top;\n",
       "    }\n",
       "\n",
       "    .dataframe thead th {\n",
       "        text-align: right;\n",
       "    }\n",
       "</style>\n",
       "<table border=\"1\" class=\"dataframe\">\n",
       "  <thead>\n",
       "    <tr style=\"text-align: right;\">\n",
       "      <th></th>\n",
       "      <th>label</th>\n",
       "      <th>pixel0</th>\n",
       "      <th>pixel1</th>\n",
       "      <th>pixel2</th>\n",
       "      <th>pixel3</th>\n",
       "      <th>pixel4</th>\n",
       "      <th>pixel5</th>\n",
       "      <th>pixel6</th>\n",
       "      <th>pixel7</th>\n",
       "      <th>pixel8</th>\n",
       "      <th>...</th>\n",
       "      <th>pixel774</th>\n",
       "      <th>pixel775</th>\n",
       "      <th>pixel776</th>\n",
       "      <th>pixel777</th>\n",
       "      <th>pixel778</th>\n",
       "      <th>pixel779</th>\n",
       "      <th>pixel780</th>\n",
       "      <th>pixel781</th>\n",
       "      <th>pixel782</th>\n",
       "      <th>pixel783</th>\n",
       "    </tr>\n",
       "  </thead>\n",
       "  <tbody>\n",
       "    <tr>\n",
       "      <th>0</th>\n",
       "      <td>1</td>\n",
       "      <td>0</td>\n",
       "      <td>0</td>\n",
       "      <td>0</td>\n",
       "      <td>0</td>\n",
       "      <td>0</td>\n",
       "      <td>0</td>\n",
       "      <td>0</td>\n",
       "      <td>0</td>\n",
       "      <td>0</td>\n",
       "      <td>...</td>\n",
       "      <td>0</td>\n",
       "      <td>0</td>\n",
       "      <td>0</td>\n",
       "      <td>0</td>\n",
       "      <td>0</td>\n",
       "      <td>0</td>\n",
       "      <td>0</td>\n",
       "      <td>0</td>\n",
       "      <td>0</td>\n",
       "      <td>0</td>\n",
       "    </tr>\n",
       "    <tr>\n",
       "      <th>1</th>\n",
       "      <td>0</td>\n",
       "      <td>0</td>\n",
       "      <td>0</td>\n",
       "      <td>0</td>\n",
       "      <td>0</td>\n",
       "      <td>0</td>\n",
       "      <td>0</td>\n",
       "      <td>0</td>\n",
       "      <td>0</td>\n",
       "      <td>0</td>\n",
       "      <td>...</td>\n",
       "      <td>0</td>\n",
       "      <td>0</td>\n",
       "      <td>0</td>\n",
       "      <td>0</td>\n",
       "      <td>0</td>\n",
       "      <td>0</td>\n",
       "      <td>0</td>\n",
       "      <td>0</td>\n",
       "      <td>0</td>\n",
       "      <td>0</td>\n",
       "    </tr>\n",
       "    <tr>\n",
       "      <th>2</th>\n",
       "      <td>1</td>\n",
       "      <td>0</td>\n",
       "      <td>0</td>\n",
       "      <td>0</td>\n",
       "      <td>0</td>\n",
       "      <td>0</td>\n",
       "      <td>0</td>\n",
       "      <td>0</td>\n",
       "      <td>0</td>\n",
       "      <td>0</td>\n",
       "      <td>...</td>\n",
       "      <td>0</td>\n",
       "      <td>0</td>\n",
       "      <td>0</td>\n",
       "      <td>0</td>\n",
       "      <td>0</td>\n",
       "      <td>0</td>\n",
       "      <td>0</td>\n",
       "      <td>0</td>\n",
       "      <td>0</td>\n",
       "      <td>0</td>\n",
       "    </tr>\n",
       "    <tr>\n",
       "      <th>3</th>\n",
       "      <td>4</td>\n",
       "      <td>0</td>\n",
       "      <td>0</td>\n",
       "      <td>0</td>\n",
       "      <td>0</td>\n",
       "      <td>0</td>\n",
       "      <td>0</td>\n",
       "      <td>0</td>\n",
       "      <td>0</td>\n",
       "      <td>0</td>\n",
       "      <td>...</td>\n",
       "      <td>0</td>\n",
       "      <td>0</td>\n",
       "      <td>0</td>\n",
       "      <td>0</td>\n",
       "      <td>0</td>\n",
       "      <td>0</td>\n",
       "      <td>0</td>\n",
       "      <td>0</td>\n",
       "      <td>0</td>\n",
       "      <td>0</td>\n",
       "    </tr>\n",
       "    <tr>\n",
       "      <th>4</th>\n",
       "      <td>0</td>\n",
       "      <td>0</td>\n",
       "      <td>0</td>\n",
       "      <td>0</td>\n",
       "      <td>0</td>\n",
       "      <td>0</td>\n",
       "      <td>0</td>\n",
       "      <td>0</td>\n",
       "      <td>0</td>\n",
       "      <td>0</td>\n",
       "      <td>...</td>\n",
       "      <td>0</td>\n",
       "      <td>0</td>\n",
       "      <td>0</td>\n",
       "      <td>0</td>\n",
       "      <td>0</td>\n",
       "      <td>0</td>\n",
       "      <td>0</td>\n",
       "      <td>0</td>\n",
       "      <td>0</td>\n",
       "      <td>0</td>\n",
       "    </tr>\n",
       "  </tbody>\n",
       "</table>\n",
       "<p>5 rows × 785 columns</p>\n",
       "</div>"
      ],
      "text/plain": [
       "   label  pixel0  pixel1  pixel2  pixel3  pixel4  pixel5  pixel6  pixel7  \\\n",
       "0      1       0       0       0       0       0       0       0       0   \n",
       "1      0       0       0       0       0       0       0       0       0   \n",
       "2      1       0       0       0       0       0       0       0       0   \n",
       "3      4       0       0       0       0       0       0       0       0   \n",
       "4      0       0       0       0       0       0       0       0       0   \n",
       "\n",
       "   pixel8  ...  pixel774  pixel775  pixel776  pixel777  pixel778  pixel779  \\\n",
       "0       0  ...         0         0         0         0         0         0   \n",
       "1       0  ...         0         0         0         0         0         0   \n",
       "2       0  ...         0         0         0         0         0         0   \n",
       "3       0  ...         0         0         0         0         0         0   \n",
       "4       0  ...         0         0         0         0         0         0   \n",
       "\n",
       "   pixel780  pixel781  pixel782  pixel783  \n",
       "0         0         0         0         0  \n",
       "1         0         0         0         0  \n",
       "2         0         0         0         0  \n",
       "3         0         0         0         0  \n",
       "4         0         0         0         0  \n",
       "\n",
       "[5 rows x 785 columns]"
      ]
     },
     "execution_count": 3,
     "metadata": {},
     "output_type": "execute_result"
    }
   ],
   "source": [
    "train.head(5)"
   ]
  },
  {
   "cell_type": "code",
   "execution_count": 4,
   "id": "ece94607",
   "metadata": {
    "execution": {
     "iopub.execute_input": "2022-07-17T13:32:18.654280Z",
     "iopub.status.busy": "2022-07-17T13:32:18.654001Z",
     "iopub.status.idle": "2022-07-17T13:32:18.670210Z",
     "shell.execute_reply": "2022-07-17T13:32:18.669259Z"
    },
    "papermill": {
     "duration": 0.027897,
     "end_time": "2022-07-17T13:32:18.673067",
     "exception": false,
     "start_time": "2022-07-17T13:32:18.645170",
     "status": "completed"
    },
    "tags": []
   },
   "outputs": [
    {
     "data": {
      "text/html": [
       "<div>\n",
       "<style scoped>\n",
       "    .dataframe tbody tr th:only-of-type {\n",
       "        vertical-align: middle;\n",
       "    }\n",
       "\n",
       "    .dataframe tbody tr th {\n",
       "        vertical-align: top;\n",
       "    }\n",
       "\n",
       "    .dataframe thead th {\n",
       "        text-align: right;\n",
       "    }\n",
       "</style>\n",
       "<table border=\"1\" class=\"dataframe\">\n",
       "  <thead>\n",
       "    <tr style=\"text-align: right;\">\n",
       "      <th></th>\n",
       "      <th>pixel0</th>\n",
       "      <th>pixel1</th>\n",
       "      <th>pixel2</th>\n",
       "      <th>pixel3</th>\n",
       "      <th>pixel4</th>\n",
       "      <th>pixel5</th>\n",
       "      <th>pixel6</th>\n",
       "      <th>pixel7</th>\n",
       "      <th>pixel8</th>\n",
       "      <th>pixel9</th>\n",
       "      <th>...</th>\n",
       "      <th>pixel774</th>\n",
       "      <th>pixel775</th>\n",
       "      <th>pixel776</th>\n",
       "      <th>pixel777</th>\n",
       "      <th>pixel778</th>\n",
       "      <th>pixel779</th>\n",
       "      <th>pixel780</th>\n",
       "      <th>pixel781</th>\n",
       "      <th>pixel782</th>\n",
       "      <th>pixel783</th>\n",
       "    </tr>\n",
       "  </thead>\n",
       "  <tbody>\n",
       "    <tr>\n",
       "      <th>0</th>\n",
       "      <td>0</td>\n",
       "      <td>0</td>\n",
       "      <td>0</td>\n",
       "      <td>0</td>\n",
       "      <td>0</td>\n",
       "      <td>0</td>\n",
       "      <td>0</td>\n",
       "      <td>0</td>\n",
       "      <td>0</td>\n",
       "      <td>0</td>\n",
       "      <td>...</td>\n",
       "      <td>0</td>\n",
       "      <td>0</td>\n",
       "      <td>0</td>\n",
       "      <td>0</td>\n",
       "      <td>0</td>\n",
       "      <td>0</td>\n",
       "      <td>0</td>\n",
       "      <td>0</td>\n",
       "      <td>0</td>\n",
       "      <td>0</td>\n",
       "    </tr>\n",
       "    <tr>\n",
       "      <th>1</th>\n",
       "      <td>0</td>\n",
       "      <td>0</td>\n",
       "      <td>0</td>\n",
       "      <td>0</td>\n",
       "      <td>0</td>\n",
       "      <td>0</td>\n",
       "      <td>0</td>\n",
       "      <td>0</td>\n",
       "      <td>0</td>\n",
       "      <td>0</td>\n",
       "      <td>...</td>\n",
       "      <td>0</td>\n",
       "      <td>0</td>\n",
       "      <td>0</td>\n",
       "      <td>0</td>\n",
       "      <td>0</td>\n",
       "      <td>0</td>\n",
       "      <td>0</td>\n",
       "      <td>0</td>\n",
       "      <td>0</td>\n",
       "      <td>0</td>\n",
       "    </tr>\n",
       "    <tr>\n",
       "      <th>2</th>\n",
       "      <td>0</td>\n",
       "      <td>0</td>\n",
       "      <td>0</td>\n",
       "      <td>0</td>\n",
       "      <td>0</td>\n",
       "      <td>0</td>\n",
       "      <td>0</td>\n",
       "      <td>0</td>\n",
       "      <td>0</td>\n",
       "      <td>0</td>\n",
       "      <td>...</td>\n",
       "      <td>0</td>\n",
       "      <td>0</td>\n",
       "      <td>0</td>\n",
       "      <td>0</td>\n",
       "      <td>0</td>\n",
       "      <td>0</td>\n",
       "      <td>0</td>\n",
       "      <td>0</td>\n",
       "      <td>0</td>\n",
       "      <td>0</td>\n",
       "    </tr>\n",
       "    <tr>\n",
       "      <th>3</th>\n",
       "      <td>0</td>\n",
       "      <td>0</td>\n",
       "      <td>0</td>\n",
       "      <td>0</td>\n",
       "      <td>0</td>\n",
       "      <td>0</td>\n",
       "      <td>0</td>\n",
       "      <td>0</td>\n",
       "      <td>0</td>\n",
       "      <td>0</td>\n",
       "      <td>...</td>\n",
       "      <td>0</td>\n",
       "      <td>0</td>\n",
       "      <td>0</td>\n",
       "      <td>0</td>\n",
       "      <td>0</td>\n",
       "      <td>0</td>\n",
       "      <td>0</td>\n",
       "      <td>0</td>\n",
       "      <td>0</td>\n",
       "      <td>0</td>\n",
       "    </tr>\n",
       "    <tr>\n",
       "      <th>4</th>\n",
       "      <td>0</td>\n",
       "      <td>0</td>\n",
       "      <td>0</td>\n",
       "      <td>0</td>\n",
       "      <td>0</td>\n",
       "      <td>0</td>\n",
       "      <td>0</td>\n",
       "      <td>0</td>\n",
       "      <td>0</td>\n",
       "      <td>0</td>\n",
       "      <td>...</td>\n",
       "      <td>0</td>\n",
       "      <td>0</td>\n",
       "      <td>0</td>\n",
       "      <td>0</td>\n",
       "      <td>0</td>\n",
       "      <td>0</td>\n",
       "      <td>0</td>\n",
       "      <td>0</td>\n",
       "      <td>0</td>\n",
       "      <td>0</td>\n",
       "    </tr>\n",
       "  </tbody>\n",
       "</table>\n",
       "<p>5 rows × 784 columns</p>\n",
       "</div>"
      ],
      "text/plain": [
       "   pixel0  pixel1  pixel2  pixel3  pixel4  pixel5  pixel6  pixel7  pixel8  \\\n",
       "0       0       0       0       0       0       0       0       0       0   \n",
       "1       0       0       0       0       0       0       0       0       0   \n",
       "2       0       0       0       0       0       0       0       0       0   \n",
       "3       0       0       0       0       0       0       0       0       0   \n",
       "4       0       0       0       0       0       0       0       0       0   \n",
       "\n",
       "   pixel9  ...  pixel774  pixel775  pixel776  pixel777  pixel778  pixel779  \\\n",
       "0       0  ...         0         0         0         0         0         0   \n",
       "1       0  ...         0         0         0         0         0         0   \n",
       "2       0  ...         0         0         0         0         0         0   \n",
       "3       0  ...         0         0         0         0         0         0   \n",
       "4       0  ...         0         0         0         0         0         0   \n",
       "\n",
       "   pixel780  pixel781  pixel782  pixel783  \n",
       "0         0         0         0         0  \n",
       "1         0         0         0         0  \n",
       "2         0         0         0         0  \n",
       "3         0         0         0         0  \n",
       "4         0         0         0         0  \n",
       "\n",
       "[5 rows x 784 columns]"
      ]
     },
     "execution_count": 4,
     "metadata": {},
     "output_type": "execute_result"
    }
   ],
   "source": [
    "test.head(5)"
   ]
  },
  {
   "cell_type": "code",
   "execution_count": 5,
   "id": "388a7e72",
   "metadata": {
    "execution": {
     "iopub.execute_input": "2022-07-17T13:32:18.691484Z",
     "iopub.status.busy": "2022-07-17T13:32:18.691216Z",
     "iopub.status.idle": "2022-07-17T13:32:18.946159Z",
     "shell.execute_reply": "2022-07-17T13:32:18.945289Z"
    },
    "papermill": {
     "duration": 0.265973,
     "end_time": "2022-07-17T13:32:18.948032",
     "exception": false,
     "start_time": "2022-07-17T13:32:18.682059",
     "status": "completed"
    },
    "tags": []
   },
   "outputs": [
    {
     "data": {
      "text/plain": [
       "<AxesSubplot:>"
      ]
     },
     "execution_count": 5,
     "metadata": {},
     "output_type": "execute_result"
    },
    {
     "data": {
      "image/png": "[encoded data removed]",
      "text/plain": [
       "<Figure size 432x288 with 1 Axes>"
      ]
     },
     "metadata": {
      "needs_background": "light"
     },
     "output_type": "display_data"
    }
   ],
   "source": [
    "train['label'].value_counts().plot.bar()"
   ]
  },
  {
   "cell_type": "code",
   "execution_count": 6,
   "id": "4ddcd46f",
   "metadata": {
    "execution": {
     "iopub.execute_input": "2022-07-17T13:32:18.966519Z",
     "iopub.status.busy": "2022-07-17T13:32:18.966003Z",
     "iopub.status.idle": "2022-07-17T13:32:18.972716Z",
     "shell.execute_reply": "2022-07-17T13:32:18.971946Z"
    },
    "papermill": {
     "duration": 0.01786,
     "end_time": "2022-07-17T13:32:18.974725",
     "exception": false,
     "start_time": "2022-07-17T13:32:18.956865",
     "status": "completed"
    },
    "tags": []
   },
   "outputs": [],
   "source": [
    "import random\n",
    "\n",
    "def row_to_image(df_row):\n",
    "    im_size = int(28 * 28)\n",
    "    im_vec = df_row[-im_size:]\n",
    "    image_arr = np.array(im_vec).reshape(28, 28, 1)\n",
    "    return image_arr / 255\n",
    "\n",
    "def show_examples(df):\n",
    "    total_num = df.shape[0]\n",
    "    indices = random.sample(range(0, total_num), 9)\n",
    "    fig, axs = plt.subplots(nrows=3, ncols=3, figsize=(10, 6))\n",
    "    for ax, i in zip(axs.flatten(), indices):\n",
    "        img = row_to_image(df.iloc[i])\n",
    "        ax.imshow(img)"
   ]
  },
  {
   "cell_type": "code",
   "execution_count": 7,
   "id": "3d8fb852",
   "metadata": {
    "execution": {
     "iopub.execute_input": "2022-07-17T13:32:18.993196Z",
     "iopub.status.busy": "2022-07-17T13:32:18.992904Z",
     "iopub.status.idle": "2022-07-17T13:32:19.944161Z",
     "shell.execute_reply": "2022-07-17T13:32:19.943309Z"
    },
    "papermill": {
     "duration": 0.963211,
     "end_time": "2022-07-17T13:32:19.946467",
     "exception": false,
     "start_time": "2022-07-17T13:32:18.983256",
     "status": "completed"
    },
    "tags": []
   },
   "outputs": [
    {
     "data": {
      "image/png": "[encoded data removed]",
      "text/plain": [
       "<Figure size 720x432 with 9 Axes>"
      ]
     },
     "metadata": {
      "needs_background": "light"
     },
     "output_type": "display_data"
    }
   ],
   "source": [
    "show_examples(train)"
   ]
  },
  {
   "cell_type": "code",
   "execution_count": 8,
   "id": "ffa52b4a",
   "metadata": {
    "execution": {
     "iopub.execute_input": "2022-07-17T13:32:19.965907Z",
     "iopub.status.busy": "2022-07-17T13:32:19.965575Z",
     "iopub.status.idle": "2022-07-17T13:32:20.783275Z",
     "shell.execute_reply": "2022-07-17T13:32:20.782348Z"
    },
    "papermill": {
     "duration": 0.829692,
     "end_time": "2022-07-17T13:32:20.785611",
     "exception": false,
     "start_time": "2022-07-17T13:32:19.955919",
     "status": "completed"
    },
    "tags": []
   },
   "outputs": [
    {
     "data": {
      "image/png": "[encoded data removed]",
      "text/plain": [
       "<Figure size 720x432 with 9 Axes>"
      ]
     },
     "metadata": {
      "needs_background": "light"
     },
     "output_type": "display_data"
    }
   ],
   "source": [
    "show_examples(test)"
   ]
  },
  {
   "cell_type": "code",
   "execution_count": 9,
   "id": "a8b9fb26",
   "metadata": {
    "execution": {
     "iopub.execute_input": "2022-07-17T13:32:20.808270Z",
     "iopub.status.busy": "2022-07-17T13:32:20.807891Z",
     "iopub.status.idle": "2022-07-17T13:32:30.476596Z",
     "shell.execute_reply": "2022-07-17T13:32:30.475679Z"
    },
    "papermill": {
     "duration": 9.682008,
     "end_time": "2022-07-17T13:32:30.478917",
     "exception": false,
     "start_time": "2022-07-17T13:32:20.796909",
     "status": "completed"
    },
    "tags": []
   },
   "outputs": [],
   "source": [
    "x_train_total = []\n",
    "y_train_total = []\n",
    "\n",
    "for i in range(train.shape[0]):\n",
    "    x_train_total.append(row_to_image(train.iloc[i]))\n",
    "    y_train_total.append(int(train.iloc[i]['label']))"
   ]
  },
  {
   "cell_type": "code",
   "execution_count": 10,
   "id": "abef327f",
   "metadata": {
    "execution": {
     "iopub.execute_input": "2022-07-17T13:32:30.499230Z",
     "iopub.status.busy": "2022-07-17T13:32:30.498933Z",
     "iopub.status.idle": "2022-07-17T13:32:30.504921Z",
     "shell.execute_reply": "2022-07-17T13:32:30.504075Z"
    },
    "papermill": {
     "duration": 0.018639,
     "end_time": "2022-07-17T13:32:30.507270",
     "exception": false,
     "start_time": "2022-07-17T13:32:30.488631",
     "status": "completed"
    },
    "tags": []
   },
   "outputs": [
    {
     "name": "stdout",
     "output_type": "stream",
     "text": [
      "Total training set is of length: 42000, with elements in shape: (28, 28, 1)\n",
      "Labels are of length: 42000, of type: <class 'int'>\n"
     ]
    }
   ],
   "source": [
    "print('Total training set is of length: {}, with elements in shape: {}'.format(len(x_train_total), x_train_total[0].shape))\n",
    "print('Labels are of length: {}, of type: {}'.format(len(y_train_total), type(y_train_total[0])))"
   ]
  },
  {
   "cell_type": "code",
   "execution_count": 11,
   "id": "6b79d9bb",
   "metadata": {
    "execution": {
     "iopub.execute_input": "2022-07-17T13:32:30.526620Z",
     "iopub.status.busy": "2022-07-17T13:32:30.525814Z",
     "iopub.status.idle": "2022-07-17T13:32:30.891367Z",
     "shell.execute_reply": "2022-07-17T13:32:30.890523Z"
    },
    "papermill": {
     "duration": 0.376497,
     "end_time": "2022-07-17T13:32:30.893330",
     "exception": false,
     "start_time": "2022-07-17T13:32:30.516833",
     "status": "completed"
    },
    "tags": []
   },
   "outputs": [
    {
     "name": "stdout",
     "output_type": "stream",
     "text": [
      "Label is: 6\n",
      "\n"
     ]
    },
    {
     "data": {
      "image/png": "[encoded data removed]",
      "text/plain": [
       "<Figure size 432x288 with 1 Axes>"
      ]
     },
     "metadata": {
      "needs_background": "light"
     },
     "output_type": "display_data"
    }
   ],
   "source": [
    "indices = np.arange(len(y_train_total), dtype=int)\n",
    "np.random.seed(42)\n",
    "np.random.shuffle(indices)\n",
    "\n",
    "x_train_shuffled = np.array(x_train_total)[indices]\n",
    "y_train_shuffled = np.array(y_train_total)[indices]\n",
    "\n",
    "# Check shuffled\n",
    "plt.imshow(x_train_shuffled[5])\n",
    "print('Label is: {}\\n'.format(y_train_shuffled[5]))"
   ]
  },
  {
   "cell_type": "code",
   "execution_count": 12,
   "id": "d9ddb43b",
   "metadata": {
    "execution": {
     "iopub.execute_input": "2022-07-17T13:32:30.912734Z",
     "iopub.status.busy": "2022-07-17T13:32:30.912103Z",
     "iopub.status.idle": "2022-07-17T13:32:30.918878Z",
     "shell.execute_reply": "2022-07-17T13:32:30.917994Z"
    },
    "papermill": {
     "duration": 0.019626,
     "end_time": "2022-07-17T13:32:30.922125",
     "exception": false,
     "start_time": "2022-07-17T13:32:30.902499",
     "status": "completed"
    },
    "tags": []
   },
   "outputs": [
    {
     "name": "stdout",
     "output_type": "stream",
     "text": [
      "Train set length: 39900\n",
      "Validation set length: 2100\n"
     ]
    }
   ],
   "source": [
    "split_ratio = 0.95\n",
    "split_index = int(len(y_train_total) * split_ratio)\n",
    "\n",
    "x_train = x_train_shuffled[:split_index]\n",
    "y_train = y_train_shuffled[:split_index]\n",
    "\n",
    "x_valid = x_train_shuffled[split_index:]\n",
    "y_valid = y_train_shuffled[split_index:]\n",
    "\n",
    "assert len(x_train) == len(y_train), 'Train set length mismatch'\n",
    "assert len(x_valid) == len(y_valid), 'Validation set length mismatch'\n",
    "\n",
    "print('Train set length: {}\\nValidation set length: {}'.format(len(y_train), len(y_valid)))"
   ]
  },
  {
   "cell_type": "code",
   "execution_count": 13,
   "id": "bbc5a21d",
   "metadata": {
    "execution": {
     "iopub.execute_input": "2022-07-17T13:32:30.942346Z",
     "iopub.status.busy": "2022-07-17T13:32:30.941814Z",
     "iopub.status.idle": "2022-07-17T13:32:31.883332Z",
     "shell.execute_reply": "2022-07-17T13:32:31.882546Z"
    },
    "papermill": {
     "duration": 0.953295,
     "end_time": "2022-07-17T13:32:31.885498",
     "exception": false,
     "start_time": "2022-07-17T13:32:30.932203",
     "status": "completed"
    },
    "tags": []
   },
   "outputs": [],
   "source": [
    "from tensorflow.keras.preprocessing.image import ImageDataGenerator\n",
    "\n",
    "datagen = ImageDataGenerator(\n",
    "    rotation_range = 15,\n",
    "    width_shift_range = 0.1,\n",
    "    height_shift_range = 0.1,\n",
    "    shear_range = 0.05,\n",
    "    zoom_range = 0.05,\n",
    "    fill_mode = 'nearest'\n",
    ")"
   ]
  },
  {
   "cell_type": "code",
   "execution_count": 14,
   "id": "7c15aaf7",
   "metadata": {
    "execution": {
     "iopub.execute_input": "2022-07-17T13:32:31.905633Z",
     "iopub.status.busy": "2022-07-17T13:32:31.905037Z",
     "iopub.status.idle": "2022-07-17T13:32:31.920102Z",
     "shell.execute_reply": "2022-07-17T13:32:31.919338Z"
    },
    "papermill": {
     "duration": 0.026546,
     "end_time": "2022-07-17T13:32:31.921694",
     "exception": false,
     "start_time": "2022-07-17T13:32:31.895148",
     "status": "completed"
    },
    "tags": []
   },
   "outputs": [],
   "source": [
    "class DigitRecognizer(tf.keras.Model):\n",
    "    def __init__(self):\n",
    "        super().__init__(self)\n",
    "        self.input_layer = tf.keras.layers.Conv2D(64, (3,3), activation='relu', input_shape=[28,28,1], padding=\"same\")\n",
    "        self.conv1 = tf.keras.layers.Conv2D(64, (3,3), activation='relu', padding=\"same\")\n",
    "        self.conv2 = tf.keras.layers.Conv2D(128, (3,3), activation='relu', padding=\"same\")\n",
    "        self.conv3 = tf.keras.layers.Conv2D(128, (3,3), activation='relu', padding=\"same\")\n",
    "        \n",
    "        self.batch_norm1 = tf.keras.layers.BatchNormalization()\n",
    "        self.batch_norm2 = tf.keras.layers.BatchNormalization()\n",
    "        self.batch_norm3 = tf.keras.layers.BatchNormalization()\n",
    "        self.batch_norm4 = tf.keras.layers.BatchNormalization()\n",
    "        \n",
    "        self.flatten = tf.keras.layers.Flatten()\n",
    "        self.dense1 = tf.keras.layers.Dense(256, activation='relu')\n",
    "        self.dense2 = tf.keras.layers.Dense(256, activation='relu')\n",
    "        self.dense3 = tf.keras.layers.Dense(128, activation='relu')\n",
    "        self.dense4 = tf.keras.layers.Dense(64, activation='relu')\n",
    "        self.max_pool = tf.keras.layers.MaxPooling2D(2,2)\n",
    "        self.dropout = tf.keras.layers.Dropout(0.25)\n",
    "        self.output_layer = tf.keras.layers.Dense(10, activation='softmax')\n",
    "        \n",
    "    def call(self, input):\n",
    "        x = self.input_layer(input)\n",
    "        x = self.batch_norm1(x)\n",
    "        \n",
    "        x = self.conv1(x)\n",
    "        x = self.batch_norm2(x)\n",
    "        x = self.max_pool(x)\n",
    "        x = self.dropout(x)\n",
    "        \n",
    "        x = self.conv2(x)\n",
    "        x = self.batch_norm3(x)\n",
    "        x = self.max_pool(x)\n",
    "        \n",
    "        x = self.conv3(x)\n",
    "        x = self.batch_norm4(x)\n",
    "        x = self.max_pool(x)\n",
    "        x = self.dropout(x)\n",
    "        \n",
    "        x = self.flatten(x)\n",
    "        \n",
    "        x = self.dense1(x)\n",
    "        x = self.dropout(x)\n",
    "        \n",
    "        x = self.dense2(x)\n",
    "        x = self.dropout(x)\n",
    "        \n",
    "        x = self.dense3(x)\n",
    "        x = self.dropout(x)\n",
    "        \n",
    "        x = self.dense4(x)\n",
    "        x = self.dropout(x)\n",
    "        \n",
    "        x = self.output_layer(x)\n",
    "        return x"
   ]
  },
  {
   "cell_type": "code",
   "execution_count": 15,
   "id": "1811e3ac",
   "metadata": {
    "execution": {
     "iopub.execute_input": "2022-07-17T13:32:31.940552Z",
     "iopub.status.busy": "2022-07-17T13:32:31.940275Z",
     "iopub.status.idle": "2022-07-17T13:32:41.077458Z",
     "shell.execute_reply": "2022-07-17T13:32:41.076079Z"
    },
    "papermill": {
     "duration": 9.149303,
     "end_time": "2022-07-17T13:32:41.079907",
     "exception": false,
     "start_time": "2022-07-17T13:32:31.930604",
     "status": "completed"
    },
    "tags": []
   },
   "outputs": [
    {
     "name": "stderr",
     "output_type": "stream",
     "text": [
      "2022-07-17 13:32:32.022627: I tensorflow/stream_executor/cuda/cuda_gpu_executor.cc:937] successful NUMA node read from SysFS had negative value (-1), but there must be at least one NUMA node, so returning NUMA node zero\n",
      "2022-07-17 13:32:32.129151: I tensorflow/stream_executor/cuda/cuda_gpu_executor.cc:937] successful NUMA node read from SysFS had negative value (-1), but there must be at least one NUMA node, so returning NUMA node zero\n",
      "2022-07-17 13:32:32.130417: I tensorflow/stream_executor/cuda/cuda_gpu_executor.cc:937] successful NUMA node read from SysFS had negative value (-1), but there must be at least one NUMA node, so returning NUMA node zero\n",
      "2022-07-17 13:32:32.132895: I tensorflow/core/platform/cpu_feature_guard.cc:142] This TensorFlow binary is optimized with oneAPI Deep Neural Network Library (oneDNN) to use the following CPU instructions in performance-critical operations:  AVX2 AVX512F FMA\n",
      "To enable them in other operations, rebuild TensorFlow with the appropriate compiler flags.\n",
      "2022-07-17 13:32:32.133379: I tensorflow/stream_executor/cuda/cuda_gpu_executor.cc:937] successful NUMA node read from SysFS had negative value (-1), but there must be at least one NUMA node, so returning NUMA node zero\n",
      "2022-07-17 13:32:32.134957: I tensorflow/stream_executor/cuda/cuda_gpu_executor.cc:937] successful NUMA node read from SysFS had negative value (-1), but there must be at least one NUMA node, so returning NUMA node zero\n",
      "2022-07-17 13:32:32.136609: I tensorflow/stream_executor/cuda/cuda_gpu_executor.cc:937] successful NUMA node read from SysFS had negative value (-1), but there must be at least one NUMA node, so returning NUMA node zero\n",
      "2022-07-17 13:32:34.413835: I tensorflow/stream_executor/cuda/cuda_gpu_executor.cc:937] successful NUMA node read from SysFS had negative value (-1), but there must be at least one NUMA node, so returning NUMA node zero\n",
      "2022-07-17 13:32:34.414674: I tensorflow/stream_executor/cuda/cuda_gpu_executor.cc:937] successful NUMA node read from SysFS had negative value (-1), but there must be at least one NUMA node, so returning NUMA node zero\n",
      "2022-07-17 13:32:34.415327: I tensorflow/stream_executor/cuda/cuda_gpu_executor.cc:937] successful NUMA node read from SysFS had negative value (-1), but there must be at least one NUMA node, so returning NUMA node zero\n",
      "2022-07-17 13:32:34.415961: I tensorflow/core/common_runtime/gpu/gpu_device.cc:1510] Created device /job:localhost/replica:0/task:0/device:GPU:0 with 15403 MB memory:  -> device: 0, name: Tesla P100-PCIE-16GB, pci bus id: 0000:00:04.0, compute capability: 6.0\n",
      "2022-07-17 13:32:35.610776: I tensorflow/stream_executor/cuda/cuda_dnn.cc:369] Loaded cuDNN version 8005\n"
     ]
    },
    {
     "name": "stdout",
     "output_type": "stream",
     "text": [
      "(1, 10)\n"
     ]
    }
   ],
   "source": [
    "opt = tf.keras.optimizers.Adam(learning_rate=0.001)\n",
    "\n",
    "model = DigitRecognizer()\n",
    "model.compile(loss='sparse_categorical_crossentropy', optimizer=opt, metrics=['accuracy'])\n",
    "\n",
    "# Example prediction\n",
    "example_prediction = model(np.expand_dims(x_train[0], axis=0))\n",
    "print(example_prediction.shape)"
   ]
  },
  {
   "cell_type": "code",
   "execution_count": 16,
   "id": "43430f86",
   "metadata": {
    "execution": {
     "iopub.execute_input": "2022-07-17T13:32:41.101060Z",
     "iopub.status.busy": "2022-07-17T13:32:41.100463Z",
     "iopub.status.idle": "2022-07-17T13:32:41.116873Z",
     "shell.execute_reply": "2022-07-17T13:32:41.115922Z"
    },
    "papermill": {
     "duration": 0.029339,
     "end_time": "2022-07-17T13:32:41.119816",
     "exception": false,
     "start_time": "2022-07-17T13:32:41.090477",
     "status": "completed"
    },
    "tags": []
   },
   "outputs": [
    {
     "name": "stdout",
     "output_type": "stream",
     "text": [
      "Model: \"digit_recognizer\"\n",
      "_________________________________________________________________\n",
      "Layer (type)                 Output Shape              Param #   \n",
      "=================================================================\n",
      "conv2d (Conv2D)              multiple                  640       \n",
      "_________________________________________________________________\n",
      "conv2d_1 (Conv2D)            multiple                  36928     \n",
      "_________________________________________________________________\n",
      "conv2d_2 (Conv2D)            multiple                  73856     \n",
      "_________________________________________________________________\n",
      "conv2d_3 (Conv2D)            multiple                  147584    \n",
      "_________________________________________________________________\n",
      "batch_normalization (BatchNo multiple                  256       \n",
      "_________________________________________________________________\n",
      "batch_normalization_1 (Batch multiple                  256       \n",
      "_________________________________________________________________\n",
      "batch_normalization_2 (Batch multiple                  512       \n",
      "_________________________________________________________________\n",
      "batch_normalization_3 (Batch multiple                  512       \n",
      "_________________________________________________________________\n",
      "flatten (Flatten)            multiple                  0         \n",
      "_________________________________________________________________\n",
      "dense (Dense)                multiple                  295168    \n",
      "_________________________________________________________________\n",
      "dense_1 (Dense)              multiple                  65792     \n",
      "_________________________________________________________________\n",
      "dense_2 (Dense)              multiple                  32896     \n",
      "_________________________________________________________________\n",
      "dense_3 (Dense)              multiple                  8256      \n",
      "_________________________________________________________________\n",
      "max_pooling2d (MaxPooling2D) multiple                  0         \n",
      "_________________________________________________________________\n",
      "dropout (Dropout)            multiple                  0         \n",
      "_________________________________________________________________\n",
      "dense_4 (Dense)              multiple                  650       \n",
      "=================================================================\n",
      "Total params: 663,306\n",
      "Trainable params: 662,538\n",
      "Non-trainable params: 768\n",
      "_________________________________________________________________\n"
     ]
    }
   ],
   "source": [
    "model.summary()\n",
    "init_weights = model.get_weights()"
   ]
  },
  {
   "cell_type": "code",
   "execution_count": 17,
   "id": "f81cfece",
   "metadata": {
    "execution": {
     "iopub.execute_input": "2022-07-17T13:32:41.139726Z",
     "iopub.status.busy": "2022-07-17T13:32:41.139466Z",
     "iopub.status.idle": "2022-07-17T13:32:41.143818Z",
     "shell.execute_reply": "2022-07-17T13:32:41.143143Z"
    },
    "papermill": {
     "duration": 0.016478,
     "end_time": "2022-07-17T13:32:41.145555",
     "exception": false,
     "start_time": "2022-07-17T13:32:41.129077",
     "status": "completed"
    },
    "tags": []
   },
   "outputs": [],
   "source": [
    "TRAIN = True"
   ]
  },
  {
   "cell_type": "code",
   "execution_count": 18,
   "id": "e73a08e6",
   "metadata": {
    "execution": {
     "iopub.execute_input": "2022-07-17T13:32:41.164892Z",
     "iopub.status.busy": "2022-07-17T13:32:41.164646Z",
     "iopub.status.idle": "2022-07-17T13:41:20.728008Z",
     "shell.execute_reply": "2022-07-17T13:41:20.727254Z"
    },
    "papermill": {
     "duration": 519.575908,
     "end_time": "2022-07-17T13:41:20.730789",
     "exception": false,
     "start_time": "2022-07-17T13:32:41.154881",
     "status": "completed"
    },
    "tags": []
   },
   "outputs": [
    {
     "name": "stderr",
     "output_type": "stream",
     "text": [
      "2022-07-17 13:32:41.313196: I tensorflow/compiler/mlir/mlir_graph_optimization_pass.cc:185] None of the MLIR Optimization Passes are enabled (registered 2)\n"
     ]
    },
    {
     "name": "stdout",
     "output_type": "stream",
     "text": [
      "Epoch 1/30\n",
      "1246/1246 [==============================] - 19s 14ms/step - loss: 0.5332 - accuracy: 0.8334 - val_loss: 0.1137 - val_accuracy: 0.9738\n",
      "Epoch 2/30\n",
      "1246/1246 [==============================] - 17s 13ms/step - loss: 0.1725 - accuracy: 0.9580 - val_loss: 0.0375 - val_accuracy: 0.9890\n",
      "Epoch 3/30\n",
      "1246/1246 [==============================] - 17s 14ms/step - loss: 0.1301 - accuracy: 0.9679 - val_loss: 0.0612 - val_accuracy: 0.9867\n",
      "Epoch 4/30\n",
      "1246/1246 [==============================] - 17s 13ms/step - loss: 0.1224 - accuracy: 0.9721 - val_loss: 0.0432 - val_accuracy: 0.9867\n",
      "Epoch 5/30\n",
      "1246/1246 [==============================] - 17s 13ms/step - loss: 0.1008 - accuracy: 0.9757 - val_loss: 0.0218 - val_accuracy: 0.9929\n",
      "Epoch 6/30\n",
      "1246/1246 [==============================] - 17s 13ms/step - loss: 0.0959 - accuracy: 0.9774 - val_loss: 0.0329 - val_accuracy: 0.9914\n",
      "Epoch 7/30\n",
      "1246/1246 [==============================] - 17s 13ms/step - loss: 0.0912 - accuracy: 0.9792 - val_loss: 0.0235 - val_accuracy: 0.9929\n",
      "Epoch 8/30\n",
      "1246/1246 [==============================] - 17s 13ms/step - loss: 0.0845 - accuracy: 0.9805 - val_loss: 0.0344 - val_accuracy: 0.9895\n",
      "Epoch 9/30\n",
      "1246/1246 [==============================] - 17s 13ms/step - loss: 0.0873 - accuracy: 0.9801 - val_loss: 0.0283 - val_accuracy: 0.9938\n",
      "Epoch 10/30\n",
      "1246/1246 [==============================] - 16s 13ms/step - loss: 0.0776 - accuracy: 0.9832 - val_loss: 0.0262 - val_accuracy: 0.9938\n",
      "Epoch 11/30\n",
      "1246/1246 [==============================] - 17s 14ms/step - loss: 0.0800 - accuracy: 0.9833 - val_loss: 0.0196 - val_accuracy: 0.9952\n",
      "Epoch 12/30\n",
      "1246/1246 [==============================] - 17s 14ms/step - loss: 0.0747 - accuracy: 0.9838 - val_loss: 0.0253 - val_accuracy: 0.9948\n",
      "Epoch 13/30\n",
      "1246/1246 [==============================] - 17s 14ms/step - loss: 0.0698 - accuracy: 0.9844 - val_loss: 0.0333 - val_accuracy: 0.9929\n",
      "Epoch 14/30\n",
      "1246/1246 [==============================] - 17s 13ms/step - loss: 0.0674 - accuracy: 0.9859 - val_loss: 0.0233 - val_accuracy: 0.9933\n",
      "Epoch 15/30\n",
      "1246/1246 [==============================] - 17s 14ms/step - loss: 0.0655 - accuracy: 0.9846 - val_loss: 0.0143 - val_accuracy: 0.9962\n",
      "Epoch 16/30\n",
      "1246/1246 [==============================] - 18s 14ms/step - loss: 0.0668 - accuracy: 0.9855 - val_loss: 0.0192 - val_accuracy: 0.9971\n",
      "Epoch 17/30\n",
      "1246/1246 [==============================] - 17s 14ms/step - loss: 0.0646 - accuracy: 0.9859 - val_loss: 0.0185 - val_accuracy: 0.9948\n",
      "Epoch 18/30\n",
      "1246/1246 [==============================] - 18s 14ms/step - loss: 0.0634 - accuracy: 0.9858 - val_loss: 0.0232 - val_accuracy: 0.9938\n",
      "Epoch 19/30\n",
      "1246/1246 [==============================] - 16s 13ms/step - loss: 0.0656 - accuracy: 0.9859 - val_loss: 0.0209 - val_accuracy: 0.9933\n",
      "Epoch 20/30\n",
      "1246/1246 [==============================] - 18s 14ms/step - loss: 0.0619 - accuracy: 0.9870 - val_loss: 0.0208 - val_accuracy: 0.9952\n",
      "Epoch 21/30\n",
      "1246/1246 [==============================] - 16s 13ms/step - loss: 0.0583 - accuracy: 0.9867 - val_loss: 0.0262 - val_accuracy: 0.9962\n",
      "Epoch 22/30\n",
      "1246/1246 [==============================] - 18s 14ms/step - loss: 0.0551 - accuracy: 0.9880 - val_loss: 0.0341 - val_accuracy: 0.9938\n",
      "Epoch 23/30\n",
      "1246/1246 [==============================] - 16s 13ms/step - loss: 0.0561 - accuracy: 0.9873 - val_loss: 0.0211 - val_accuracy: 0.9943\n",
      "Epoch 24/30\n",
      "1246/1246 [==============================] - 17s 14ms/step - loss: 0.0599 - accuracy: 0.9877 - val_loss: 0.0329 - val_accuracy: 0.9952\n",
      "Epoch 25/30\n",
      "1246/1246 [==============================] - 17s 13ms/step - loss: 0.0575 - accuracy: 0.9874 - val_loss: 0.0483 - val_accuracy: 0.9948\n",
      "Epoch 26/30\n",
      "1246/1246 [==============================] - 17s 13ms/step - loss: 0.0493 - accuracy: 0.9885 - val_loss: 0.0327 - val_accuracy: 0.9948\n",
      "Epoch 27/30\n",
      "1246/1246 [==============================] - 17s 13ms/step - loss: 0.0548 - accuracy: 0.9889 - val_loss: 0.0190 - val_accuracy: 0.9962\n",
      "Epoch 28/30\n",
      "1246/1246 [==============================] - 17s 13ms/step - loss: 0.0552 - accuracy: 0.9876 - val_loss: 0.0210 - val_accuracy: 0.9967\n",
      "Epoch 29/30\n",
      "1246/1246 [==============================] - 17s 14ms/step - loss: 0.0563 - accuracy: 0.9881 - val_loss: 0.0197 - val_accuracy: 0.9952\n",
      "Epoch 30/30\n",
      "1246/1246 [==============================] - 17s 14ms/step - loss: 0.0498 - accuracy: 0.9891 - val_loss: 0.0341 - val_accuracy: 0.9943\n"
     ]
    }
   ],
   "source": [
    "if TRAIN:\n",
    "    learning_rate_reduction = tf.keras.callbacks.ReduceLROnPlateau(\n",
    "        monitor='val_accuracy',\n",
    "        patience=3,\n",
    "        verbose=1,\n",
    "        factor=0.5,\n",
    "        min_lr=0.00001)\n",
    "    \n",
    "    epochs = 30\n",
    "\n",
    "    model.set_weights(init_weights)\n",
    "\n",
    "    history = model.fit(\n",
    "        datagen.flow(x_train, y_train, batch_size=32),\n",
    "        validation_data=(x_valid, y_valid),\n",
    "        steps_per_epoch=len(x_train) / 32,\n",
    "        epochs=epochs\n",
    "    )\n",
    "    \n",
    "    model.save_weights('/kaggle/working/mk0_weights')\n",
    "    np.save('/kaggle/working/mk0_history.npy', history.history)"
   ]
  },
  {
   "cell_type": "code",
   "execution_count": 19,
   "id": "763bcc8c",
   "metadata": {
    "execution": {
     "iopub.execute_input": "2022-07-17T13:41:21.932597Z",
     "iopub.status.busy": "2022-07-17T13:41:21.932120Z",
     "iopub.status.idle": "2022-07-17T13:41:21.936915Z",
     "shell.execute_reply": "2022-07-17T13:41:21.936141Z"
    },
    "papermill": {
     "duration": 0.627591,
     "end_time": "2022-07-17T13:41:21.938530",
     "exception": false,
     "start_time": "2022-07-17T13:41:21.310939",
     "status": "completed"
    },
    "tags": []
   },
   "outputs": [],
   "source": [
    "if not TRAIN:\n",
    "    model.load_weights('/kaggle/working/mk0_weights')\n",
    "    history=np.load('/kaggle/working/mk0_history.npy',allow_pickle='TRUE').item()"
   ]
  },
  {
   "cell_type": "code",
   "execution_count": 20,
   "id": "46416b20",
   "metadata": {
    "execution": {
     "iopub.execute_input": "2022-07-17T13:41:23.057282Z",
     "iopub.status.busy": "2022-07-17T13:41:23.056466Z",
     "iopub.status.idle": "2022-07-17T13:41:23.264684Z",
     "shell.execute_reply": "2022-07-17T13:41:23.263430Z"
    },
    "papermill": {
     "duration": 0.769179,
     "end_time": "2022-07-17T13:41:23.266413",
     "exception": false,
     "start_time": "2022-07-17T13:41:22.497234",
     "status": "completed"
    },
    "tags": []
   },
   "outputs": [
    {
     "data": {
      "image/png": "[encoded data removed]",
      "text/plain": [
       "<Figure size 432x288 with 1 Axes>"
      ]
     },
     "metadata": {
      "needs_background": "light"
     },
     "output_type": "display_data"
    },
    {
     "data": {
      "text/plain": [
       "<Figure size 432x288 with 0 Axes>"
      ]
     },
     "metadata": {},
     "output_type": "display_data"
    }
   ],
   "source": [
    "history = history.history if TRAIN else history\n",
    "\n",
    "acc = history['accuracy']\n",
    "val_acc = history['val_accuracy']\n",
    "loss = history['loss']\n",
    "val_loss = history['val_loss']\n",
    "\n",
    "epochs = range(len(acc))\n",
    "\n",
    "plt.plot(epochs, acc, 'r', label='Training accuracy')\n",
    "plt.plot(epochs, val_acc, 'b', label='Validation accuracy')\n",
    "plt.title('Training and validation accuracy')\n",
    "plt.legend(loc=0)\n",
    "plt.figure()\n",
    "\n",
    "plt.show()"
   ]
  },
  {
   "cell_type": "code",
   "execution_count": 21,
   "id": "c1c09895",
   "metadata": {
    "execution": {
     "iopub.execute_input": "2022-07-17T13:41:24.429451Z",
     "iopub.status.busy": "2022-07-17T13:41:24.428972Z",
     "iopub.status.idle": "2022-07-17T13:41:24.621801Z",
     "shell.execute_reply": "2022-07-17T13:41:24.620956Z"
    },
    "papermill": {
     "duration": 0.760957,
     "end_time": "2022-07-17T13:41:24.623767",
     "exception": false,
     "start_time": "2022-07-17T13:41:23.862810",
     "status": "completed"
    },
    "tags": []
   },
   "outputs": [
    {
     "data": {
      "image/png": "[encoded data removed]",
      "text/plain": [
       "<Figure size 432x288 with 1 Axes>"
      ]
     },
     "metadata": {
      "needs_background": "light"
     },
     "output_type": "display_data"
    },
    {
     "data": {
      "text/plain": [
       "<Figure size 432x288 with 0 Axes>"
      ]
     },
     "metadata": {},
     "output_type": "display_data"
    }
   ],
   "source": [
    "plt.plot(epochs, loss, 'r', label='Training loss')\n",
    "plt.plot(epochs, val_loss, 'b', label='Validation loss')\n",
    "plt.title('Training and validation loss')\n",
    "plt.legend(loc=0)\n",
    "plt.figure()\n",
    "\n",
    "plt.show()"
   ]
  },
  {
   "cell_type": "code",
   "execution_count": 22,
   "id": "519776b6",
   "metadata": {
    "execution": {
     "iopub.execute_input": "2022-07-17T13:41:25.808933Z",
     "iopub.status.busy": "2022-07-17T13:41:25.807885Z",
     "iopub.status.idle": "2022-07-17T13:41:29.905391Z",
     "shell.execute_reply": "2022-07-17T13:41:29.904541Z"
    },
    "papermill": {
     "duration": 4.65993,
     "end_time": "2022-07-17T13:41:29.908028",
     "exception": false,
     "start_time": "2022-07-17T13:41:25.248098",
     "status": "completed"
    },
    "tags": []
   },
   "outputs": [],
   "source": [
    "x_test = []\n",
    "\n",
    "for i in range(test.shape[0]):\n",
    "    x_test.append(row_to_image(test.iloc[i]))\n",
    "    \n",
    "x_test = np.array(x_test)"
   ]
  },
  {
   "cell_type": "code",
   "execution_count": 23,
   "id": "203b7d37",
   "metadata": {
    "execution": {
     "iopub.execute_input": "2022-07-17T13:41:31.167692Z",
     "iopub.status.busy": "2022-07-17T13:41:31.167152Z",
     "iopub.status.idle": "2022-07-17T13:41:31.623380Z",
     "shell.execute_reply": "2022-07-17T13:41:31.622601Z"
    },
    "papermill": {
     "duration": 1.151144,
     "end_time": "2022-07-17T13:41:31.625381",
     "exception": false,
     "start_time": "2022-07-17T13:41:30.474237",
     "status": "completed"
    },
    "tags": []
   },
   "outputs": [
    {
     "name": "stdout",
     "output_type": "stream",
     "text": [
      "Prediction: 7\n"
     ]
    },
    {
     "data": {
      "text/plain": [
       "<matplotlib.image.AxesImage at 0x7f90640ff6d0>"
      ]
     },
     "execution_count": 23,
     "metadata": {},
     "output_type": "execute_result"
    },
    {
     "data": {
      "image/png": "[encoded data removed]",
      "text/plain": [
       "<Figure size 432x288 with 1 Axes>"
      ]
     },
     "metadata": {
      "needs_background": "light"
     },
     "output_type": "display_data"
    }
   ],
   "source": [
    "# Sample Prediction\n",
    "ind = random.randint(0, x_test.shape[0])\n",
    "\n",
    "pred = model.predict(np.expand_dims(x_test[ind], axis=0))\n",
    "print('Prediction: {}'.format(np.argmax(pred[0])))\n",
    "plt.imshow(x_test[ind])"
   ]
  },
  {
   "cell_type": "code",
   "execution_count": 24,
   "id": "f2a3eb01",
   "metadata": {
    "execution": {
     "iopub.execute_input": "2022-07-17T13:41:32.790680Z",
     "iopub.status.busy": "2022-07-17T13:41:32.790288Z",
     "iopub.status.idle": "2022-07-17T13:41:38.194264Z",
     "shell.execute_reply": "2022-07-17T13:41:38.193329Z"
    },
    "papermill": {
     "duration": 5.971306,
     "end_time": "2022-07-17T13:41:38.196476",
     "exception": false,
     "start_time": "2022-07-17T13:41:32.225170",
     "status": "completed"
    },
    "tags": []
   },
   "outputs": [],
   "source": [
    "predictions = model.predict(x_test, batch_size=10)"
   ]
  },
  {
   "cell_type": "code",
   "execution_count": 25,
   "id": "99be1951",
   "metadata": {
    "execution": {
     "iopub.execute_input": "2022-07-17T13:41:39.361092Z",
     "iopub.status.busy": "2022-07-17T13:41:39.360702Z",
     "iopub.status.idle": "2022-07-17T13:41:39.365841Z",
     "shell.execute_reply": "2022-07-17T13:41:39.365037Z"
    },
    "papermill": {
     "duration": 0.56876,
     "end_time": "2022-07-17T13:41:39.367659",
     "exception": false,
     "start_time": "2022-07-17T13:41:38.798899",
     "status": "completed"
    },
    "tags": []
   },
   "outputs": [],
   "source": [
    "preds = np.argmax(predictions, axis=1)\n",
    "ids = np.arange(1, len(preds) + 1)"
   ]
  },
  {
   "cell_type": "code",
   "execution_count": 26,
   "id": "75511e97",
   "metadata": {
    "execution": {
     "iopub.execute_input": "2022-07-17T13:41:40.860578Z",
     "iopub.status.busy": "2022-07-17T13:41:40.860073Z",
     "iopub.status.idle": "2022-07-17T13:41:41.192435Z",
     "shell.execute_reply": "2022-07-17T13:41:41.191602Z"
    },
    "papermill": {
     "duration": 1.2711,
     "end_time": "2022-07-17T13:41:41.195225",
     "exception": false,
     "start_time": "2022-07-17T13:41:39.924125",
     "status": "completed"
    },
    "tags": []
   },
   "outputs": [
    {
     "data": {
      "text/plain": [
       "<AxesSubplot:>"
      ]
     },
     "execution_count": 26,
     "metadata": {},
     "output_type": "execute_result"
    },
    {
     "data": {
      "image/png": "[encoded data removed]",
      "text/plain": [
       "<Figure size 432x288 with 1 Axes>"
      ]
     },
     "metadata": {
      "needs_background": "light"
     },
     "output_type": "display_data"
    }
   ],
   "source": [
    "my_submission = pd.DataFrame({'ImageId': ids, 'Label': preds})\n",
    "my_submission['Label'].value_counts().plot.bar()"
   ]
  },
  {
   "cell_type": "code",
   "execution_count": 27,
   "id": "848d15f2",
   "metadata": {
    "execution": {
     "iopub.execute_input": "2022-07-17T13:41:42.721608Z",
     "iopub.status.busy": "2022-07-17T13:41:42.721224Z",
     "iopub.status.idle": "2022-07-17T13:41:42.729492Z",
     "shell.execute_reply": "2022-07-17T13:41:42.728740Z"
    },
    "papermill": {
     "duration": 0.843115,
     "end_time": "2022-07-17T13:41:42.731372",
     "exception": false,
     "start_time": "2022-07-17T13:41:41.888257",
     "status": "completed"
    },
    "tags": []
   },
   "outputs": [
    {
     "data": {
      "text/html": [
       "<div>\n",
       "<style scoped>\n",
       "    .dataframe tbody tr th:only-of-type {\n",
       "        vertical-align: middle;\n",
       "    }\n",
       "\n",
       "    .dataframe tbody tr th {\n",
       "        vertical-align: top;\n",
       "    }\n",
       "\n",
       "    .dataframe thead th {\n",
       "        text-align: right;\n",
       "    }\n",
       "</style>\n",
       "<table border=\"1\" class=\"dataframe\">\n",
       "  <thead>\n",
       "    <tr style=\"text-align: right;\">\n",
       "      <th></th>\n",
       "      <th>ImageId</th>\n",
       "      <th>Label</th>\n",
       "    </tr>\n",
       "  </thead>\n",
       "  <tbody>\n",
       "    <tr>\n",
       "      <th>0</th>\n",
       "      <td>1</td>\n",
       "      <td>2</td>\n",
       "    </tr>\n",
       "    <tr>\n",
       "      <th>1</th>\n",
       "      <td>2</td>\n",
       "      <td>0</td>\n",
       "    </tr>\n",
       "    <tr>\n",
       "      <th>2</th>\n",
       "      <td>3</td>\n",
       "      <td>9</td>\n",
       "    </tr>\n",
       "    <tr>\n",
       "      <th>3</th>\n",
       "      <td>4</td>\n",
       "      <td>0</td>\n",
       "    </tr>\n",
       "    <tr>\n",
       "      <th>4</th>\n",
       "      <td>5</td>\n",
       "      <td>3</td>\n",
       "    </tr>\n",
       "  </tbody>\n",
       "</table>\n",
       "</div>"
      ],
      "text/plain": [
       "   ImageId  Label\n",
       "0        1      2\n",
       "1        2      0\n",
       "2        3      9\n",
       "3        4      0\n",
       "4        5      3"
      ]
     },
     "execution_count": 27,
     "metadata": {},
     "output_type": "execute_result"
    }
   ],
   "source": [
    "my_submission.head(5)"
   ]
  },
  {
   "cell_type": "code",
   "execution_count": 28,
   "id": "3fbc7012",
   "metadata": {
    "execution": {
     "iopub.execute_input": "2022-07-17T13:41:43.896017Z",
     "iopub.status.busy": "2022-07-17T13:41:43.895579Z",
     "iopub.status.idle": "2022-07-17T13:41:44.076062Z",
     "shell.execute_reply": "2022-07-17T13:41:44.075261Z"
    },
    "papermill": {
     "duration": 0.741225,
     "end_time": "2022-07-17T13:41:44.077975",
     "exception": false,
     "start_time": "2022-07-17T13:41:43.336750",
     "status": "completed"
    },
    "tags": []
   },
   "outputs": [
    {
     "name": "stdout",
     "output_type": "stream",
     "text": [
      "2\n"
     ]
    },
    {
     "data": {
      "text/plain": [
       "<matplotlib.image.AxesImage at 0x7f90832d3650>"
      ]
     },
     "execution_count": 28,
     "metadata": {},
     "output_type": "execute_result"
    },
    {
     "data": {
      "image/png": "[encoded data removed]",
      "text/plain": [
       "<Figure size 432x288 with 1 Axes>"
      ]
     },
     "metadata": {
      "needs_background": "light"
     },
     "output_type": "display_data"
    }
   ],
   "source": [
    "print(my_submission.iloc[0]['Label'])\n",
    "plt.imshow(x_test[0])"
   ]
  },
  {
   "cell_type": "code",
   "execution_count": 29,
   "id": "42a60a9f",
   "metadata": {
    "execution": {
     "iopub.execute_input": "2022-07-17T13:41:45.268038Z",
     "iopub.status.busy": "2022-07-17T13:41:45.267582Z",
     "iopub.status.idle": "2022-07-17T13:41:45.313411Z",
     "shell.execute_reply": "2022-07-17T13:41:45.312658Z"
    },
    "papermill": {
     "duration": 0.671335,
     "end_time": "2022-07-17T13:41:45.315232",
     "exception": false,
     "start_time": "2022-07-17T13:41:44.643897",
     "status": "completed"
    },
    "tags": []
   },
   "outputs": [],
   "source": [
    "my_submission.to_csv('submission.csv', index=False)"
   ]
  },
  {
   "cell_type": "code",
   "execution_count": null,
   "id": "30895943",
   "metadata": {
    "papermill": {
     "duration": 0.561775,
     "end_time": "2022-07-17T13:41:46.442809",
     "exception": false,
     "start_time": "2022-07-17T13:41:45.881034",
     "status": "completed"
    },
    "tags": []
   },
   "outputs": [],
   "source": []
  }
 ],
 "metadata": {
  "kernelspec": {
   "display_name": "Python 3",
   "language": "python",
   "name": "python3"
  },
  "language_info": {
   "codemirror_mode": {
    "name": "ipython",
    "version": 3
   },
   "file_extension": ".py",
   "mimetype": "text/x-python",
   "name": "python",
   "nbconvert_exporter": "python",
   "pygments_lexer": "ipython3",
   "version": "3.7.12"
  },
  "papermill": {
   "default_parameters": {},
   "duration": 590.037105,
   "end_time": "2022-07-17T13:41:49.787772",
   "environment_variables": {},
   "exception": null,
   "input_path": "__notebook__.ipynb",
   "output_path": "__notebook__.ipynb",
   "parameters": {},
   "start_time": "2022-07-17T13:31:59.750667",
   "version": "2.3.4"
  }
 },
 "nbformat": 4,
 "nbformat_minor": 5
}
