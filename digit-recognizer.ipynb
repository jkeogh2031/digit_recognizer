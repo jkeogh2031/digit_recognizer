{
 "cells": [
  {
   "cell_type": "code",
   "execution_count": 1,
   "id": "dacf6ceb",
   "metadata": {
    "_cell_guid": "b1076dfc-b9ad-4769-8c92-a6c4dae69d19",
    "_uuid": "8f2839f25d086af736a60e9eeb907d3b93b6e0e5",
    "execution": {
     "iopub.execute_input": "2022-06-05T15:03:58.876768Z",
     "iopub.status.busy": "2022-06-05T15:03:58.875768Z",
     "iopub.status.idle": "2022-06-05T15:04:03.559172Z",
     "shell.execute_reply": "2022-06-05T15:04:03.556750Z"
    },
    "papermill": {
     "duration": 4.697867,
     "end_time": "2022-06-05T15:04:03.561674",
     "exception": false,
     "start_time": "2022-06-05T15:03:58.863807",
     "status": "completed"
    },
    "tags": []
   },
   "outputs": [
    {
     "name": "stdout",
     "output_type": "stream",
     "text": [
      "/kaggle/input/digit-recognizer/sample_submission.csv\n",
      "/kaggle/input/digit-recognizer/train.csv\n",
      "/kaggle/input/digit-recognizer/test.csv\n",
      "2.6.4\n"
     ]
    }
   ],
   "source": [
    "import os\n",
    "import numpy as np\n",
    "import pandas as pd\n",
    "import tensorflow as tf\n",
    "import matplotlib.pyplot as plt\n",
    "\n",
    "# Input data files are available in the read-only \"../input/\" directory\n",
    "# For example, running this (by clicking run or pressing Shift+Enter) will list all files under the input directory\n",
    "\n",
    "import os\n",
    "for dirname, _, filenames in os.walk('/kaggle/input'):\n",
    "    for filename in filenames:\n",
    "        print(os.path.join(dirname, filename))\n",
    "        \n",
    "print(tf.__version__)\n",
    "\n",
    "# You can write up to 20GB to the current directory (/kaggle/working/) that gets preserved as output when you create a version using \"Save & Run All\" \n",
    "# You can also write temporary files to /kaggle/temp/, but they won't be saved outside of the current session"
   ]
  },
  {
   "cell_type": "code",
   "execution_count": 2,
   "id": "8e26c49f",
   "metadata": {
    "execution": {
     "iopub.execute_input": "2022-06-05T15:04:03.577644Z",
     "iopub.status.busy": "2022-06-05T15:04:03.577108Z",
     "iopub.status.idle": "2022-06-05T15:04:08.378676Z",
     "shell.execute_reply": "2022-06-05T15:04:08.377855Z"
    },
    "papermill": {
     "duration": 4.811411,
     "end_time": "2022-06-05T15:04:08.380688",
     "exception": false,
     "start_time": "2022-06-05T15:04:03.569277",
     "status": "completed"
    },
    "tags": []
   },
   "outputs": [],
   "source": [
    "base_fp = '/kaggle/input/digit-recognizer'\n",
    "train_fp = os.path.join(base_fp, 'train.csv')\n",
    "test_fp = os.path.join(base_fp, 'test.csv')\n",
    "\n",
    "train = pd.read_csv(train_fp)\n",
    "test = pd.read_csv(test_fp)"
   ]
  },
  {
   "cell_type": "code",
   "execution_count": 3,
   "id": "7298956d",
   "metadata": {
    "execution": {
     "iopub.execute_input": "2022-06-05T15:04:08.396411Z",
     "iopub.status.busy": "2022-06-05T15:04:08.396082Z",
     "iopub.status.idle": "2022-06-05T15:04:08.419803Z",
     "shell.execute_reply": "2022-06-05T15:04:08.418876Z"
    },
    "papermill": {
     "duration": 0.034295,
     "end_time": "2022-06-05T15:04:08.422208",
     "exception": false,
     "start_time": "2022-06-05T15:04:08.387913",
     "status": "completed"
    },
    "tags": []
   },
   "outputs": [
    {
     "data": {
      "text/html": [
       "<div>\n",
       "<style scoped>\n",
       "    .dataframe tbody tr th:only-of-type {\n",
       "        vertical-align: middle;\n",
       "    }\n",
       "\n",
       "    .dataframe tbody tr th {\n",
       "        vertical-align: top;\n",
       "    }\n",
       "\n",
       "    .dataframe thead th {\n",
       "        text-align: right;\n",
       "    }\n",
       "</style>\n",
       "<table border=\"1\" class=\"dataframe\">\n",
       "  <thead>\n",
       "    <tr style=\"text-align: right;\">\n",
       "      <th></th>\n",
       "      <th>label</th>\n",
       "      <th>pixel0</th>\n",
       "      <th>pixel1</th>\n",
       "      <th>pixel2</th>\n",
       "      <th>pixel3</th>\n",
       "      <th>pixel4</th>\n",
       "      <th>pixel5</th>\n",
       "      <th>pixel6</th>\n",
       "      <th>pixel7</th>\n",
       "      <th>pixel8</th>\n",
       "      <th>...</th>\n",
       "      <th>pixel774</th>\n",
       "      <th>pixel775</th>\n",
       "      <th>pixel776</th>\n",
       "      <th>pixel777</th>\n",
       "      <th>pixel778</th>\n",
       "      <th>pixel779</th>\n",
       "      <th>pixel780</th>\n",
       "      <th>pixel781</th>\n",
       "      <th>pixel782</th>\n",
       "      <th>pixel783</th>\n",
       "    </tr>\n",
       "  </thead>\n",
       "  <tbody>\n",
       "    <tr>\n",
       "      <th>0</th>\n",
       "      <td>1</td>\n",
       "      <td>0</td>\n",
       "      <td>0</td>\n",
       "      <td>0</td>\n",
       "      <td>0</td>\n",
       "      <td>0</td>\n",
       "      <td>0</td>\n",
       "      <td>0</td>\n",
       "      <td>0</td>\n",
       "      <td>0</td>\n",
       "      <td>...</td>\n",
       "      <td>0</td>\n",
       "      <td>0</td>\n",
       "      <td>0</td>\n",
       "      <td>0</td>\n",
       "      <td>0</td>\n",
       "      <td>0</td>\n",
       "      <td>0</td>\n",
       "      <td>0</td>\n",
       "      <td>0</td>\n",
       "      <td>0</td>\n",
       "    </tr>\n",
       "    <tr>\n",
       "      <th>1</th>\n",
       "      <td>0</td>\n",
       "      <td>0</td>\n",
       "      <td>0</td>\n",
       "      <td>0</td>\n",
       "      <td>0</td>\n",
       "      <td>0</td>\n",
       "      <td>0</td>\n",
       "      <td>0</td>\n",
       "      <td>0</td>\n",
       "      <td>0</td>\n",
       "      <td>...</td>\n",
       "      <td>0</td>\n",
       "      <td>0</td>\n",
       "      <td>0</td>\n",
       "      <td>0</td>\n",
       "      <td>0</td>\n",
       "      <td>0</td>\n",
       "      <td>0</td>\n",
       "      <td>0</td>\n",
       "      <td>0</td>\n",
       "      <td>0</td>\n",
       "    </tr>\n",
       "    <tr>\n",
       "      <th>2</th>\n",
       "      <td>1</td>\n",
       "      <td>0</td>\n",
       "      <td>0</td>\n",
       "      <td>0</td>\n",
       "      <td>0</td>\n",
       "      <td>0</td>\n",
       "      <td>0</td>\n",
       "      <td>0</td>\n",
       "      <td>0</td>\n",
       "      <td>0</td>\n",
       "      <td>...</td>\n",
       "      <td>0</td>\n",
       "      <td>0</td>\n",
       "      <td>0</td>\n",
       "      <td>0</td>\n",
       "      <td>0</td>\n",
       "      <td>0</td>\n",
       "      <td>0</td>\n",
       "      <td>0</td>\n",
       "      <td>0</td>\n",
       "      <td>0</td>\n",
       "    </tr>\n",
       "    <tr>\n",
       "      <th>3</th>\n",
       "      <td>4</td>\n",
       "      <td>0</td>\n",
       "      <td>0</td>\n",
       "      <td>0</td>\n",
       "      <td>0</td>\n",
       "      <td>0</td>\n",
       "      <td>0</td>\n",
       "      <td>0</td>\n",
       "      <td>0</td>\n",
       "      <td>0</td>\n",
       "      <td>...</td>\n",
       "      <td>0</td>\n",
       "      <td>0</td>\n",
       "      <td>0</td>\n",
       "      <td>0</td>\n",
       "      <td>0</td>\n",
       "      <td>0</td>\n",
       "      <td>0</td>\n",
       "      <td>0</td>\n",
       "      <td>0</td>\n",
       "      <td>0</td>\n",
       "    </tr>\n",
       "    <tr>\n",
       "      <th>4</th>\n",
       "      <td>0</td>\n",
       "      <td>0</td>\n",
       "      <td>0</td>\n",
       "      <td>0</td>\n",
       "      <td>0</td>\n",
       "      <td>0</td>\n",
       "      <td>0</td>\n",
       "      <td>0</td>\n",
       "      <td>0</td>\n",
       "      <td>0</td>\n",
       "      <td>...</td>\n",
       "      <td>0</td>\n",
       "      <td>0</td>\n",
       "      <td>0</td>\n",
       "      <td>0</td>\n",
       "      <td>0</td>\n",
       "      <td>0</td>\n",
       "      <td>0</td>\n",
       "      <td>0</td>\n",
       "      <td>0</td>\n",
       "      <td>0</td>\n",
       "    </tr>\n",
       "  </tbody>\n",
       "</table>\n",
       "<p>5 rows × 785 columns</p>\n",
       "</div>"
      ],
      "text/plain": [
       "   label  pixel0  pixel1  pixel2  pixel3  pixel4  pixel5  pixel6  pixel7  \\\n",
       "0      1       0       0       0       0       0       0       0       0   \n",
       "1      0       0       0       0       0       0       0       0       0   \n",
       "2      1       0       0       0       0       0       0       0       0   \n",
       "3      4       0       0       0       0       0       0       0       0   \n",
       "4      0       0       0       0       0       0       0       0       0   \n",
       "\n",
       "   pixel8  ...  pixel774  pixel775  pixel776  pixel777  pixel778  pixel779  \\\n",
       "0       0  ...         0         0         0         0         0         0   \n",
       "1       0  ...         0         0         0         0         0         0   \n",
       "2       0  ...         0         0         0         0         0         0   \n",
       "3       0  ...         0         0         0         0         0         0   \n",
       "4       0  ...         0         0         0         0         0         0   \n",
       "\n",
       "   pixel780  pixel781  pixel782  pixel783  \n",
       "0         0         0         0         0  \n",
       "1         0         0         0         0  \n",
       "2         0         0         0         0  \n",
       "3         0         0         0         0  \n",
       "4         0         0         0         0  \n",
       "\n",
       "[5 rows x 785 columns]"
      ]
     },
     "execution_count": 3,
     "metadata": {},
     "output_type": "execute_result"
    }
   ],
   "source": [
    "train.head(5)"
   ]
  },
  {
   "cell_type": "code",
   "execution_count": 4,
   "id": "7da5a22c",
   "metadata": {
    "execution": {
     "iopub.execute_input": "2022-06-05T15:04:08.437878Z",
     "iopub.status.busy": "2022-06-05T15:04:08.437544Z",
     "iopub.status.idle": "2022-06-05T15:04:08.452999Z",
     "shell.execute_reply": "2022-06-05T15:04:08.452111Z"
    },
    "papermill": {
     "duration": 0.026273,
     "end_time": "2022-06-05T15:04:08.455815",
     "exception": false,
     "start_time": "2022-06-05T15:04:08.429542",
     "status": "completed"
    },
    "tags": []
   },
   "outputs": [
    {
     "data": {
      "text/html": [
       "<div>\n",
       "<style scoped>\n",
       "    .dataframe tbody tr th:only-of-type {\n",
       "        vertical-align: middle;\n",
       "    }\n",
       "\n",
       "    .dataframe tbody tr th {\n",
       "        vertical-align: top;\n",
       "    }\n",
       "\n",
       "    .dataframe thead th {\n",
       "        text-align: right;\n",
       "    }\n",
       "</style>\n",
       "<table border=\"1\" class=\"dataframe\">\n",
       "  <thead>\n",
       "    <tr style=\"text-align: right;\">\n",
       "      <th></th>\n",
       "      <th>pixel0</th>\n",
       "      <th>pixel1</th>\n",
       "      <th>pixel2</th>\n",
       "      <th>pixel3</th>\n",
       "      <th>pixel4</th>\n",
       "      <th>pixel5</th>\n",
       "      <th>pixel6</th>\n",
       "      <th>pixel7</th>\n",
       "      <th>pixel8</th>\n",
       "      <th>pixel9</th>\n",
       "      <th>...</th>\n",
       "      <th>pixel774</th>\n",
       "      <th>pixel775</th>\n",
       "      <th>pixel776</th>\n",
       "      <th>pixel777</th>\n",
       "      <th>pixel778</th>\n",
       "      <th>pixel779</th>\n",
       "      <th>pixel780</th>\n",
       "      <th>pixel781</th>\n",
       "      <th>pixel782</th>\n",
       "      <th>pixel783</th>\n",
       "    </tr>\n",
       "  </thead>\n",
       "  <tbody>\n",
       "    <tr>\n",
       "      <th>0</th>\n",
       "      <td>0</td>\n",
       "      <td>0</td>\n",
       "      <td>0</td>\n",
       "      <td>0</td>\n",
       "      <td>0</td>\n",
       "      <td>0</td>\n",
       "      <td>0</td>\n",
       "      <td>0</td>\n",
       "      <td>0</td>\n",
       "      <td>0</td>\n",
       "      <td>...</td>\n",
       "      <td>0</td>\n",
       "      <td>0</td>\n",
       "      <td>0</td>\n",
       "      <td>0</td>\n",
       "      <td>0</td>\n",
       "      <td>0</td>\n",
       "      <td>0</td>\n",
       "      <td>0</td>\n",
       "      <td>0</td>\n",
       "      <td>0</td>\n",
       "    </tr>\n",
       "    <tr>\n",
       "      <th>1</th>\n",
       "      <td>0</td>\n",
       "      <td>0</td>\n",
       "      <td>0</td>\n",
       "      <td>0</td>\n",
       "      <td>0</td>\n",
       "      <td>0</td>\n",
       "      <td>0</td>\n",
       "      <td>0</td>\n",
       "      <td>0</td>\n",
       "      <td>0</td>\n",
       "      <td>...</td>\n",
       "      <td>0</td>\n",
       "      <td>0</td>\n",
       "      <td>0</td>\n",
       "      <td>0</td>\n",
       "      <td>0</td>\n",
       "      <td>0</td>\n",
       "      <td>0</td>\n",
       "      <td>0</td>\n",
       "      <td>0</td>\n",
       "      <td>0</td>\n",
       "    </tr>\n",
       "    <tr>\n",
       "      <th>2</th>\n",
       "      <td>0</td>\n",
       "      <td>0</td>\n",
       "      <td>0</td>\n",
       "      <td>0</td>\n",
       "      <td>0</td>\n",
       "      <td>0</td>\n",
       "      <td>0</td>\n",
       "      <td>0</td>\n",
       "      <td>0</td>\n",
       "      <td>0</td>\n",
       "      <td>...</td>\n",
       "      <td>0</td>\n",
       "      <td>0</td>\n",
       "      <td>0</td>\n",
       "      <td>0</td>\n",
       "      <td>0</td>\n",
       "      <td>0</td>\n",
       "      <td>0</td>\n",
       "      <td>0</td>\n",
       "      <td>0</td>\n",
       "      <td>0</td>\n",
       "    </tr>\n",
       "    <tr>\n",
       "      <th>3</th>\n",
       "      <td>0</td>\n",
       "      <td>0</td>\n",
       "      <td>0</td>\n",
       "      <td>0</td>\n",
       "      <td>0</td>\n",
       "      <td>0</td>\n",
       "      <td>0</td>\n",
       "      <td>0</td>\n",
       "      <td>0</td>\n",
       "      <td>0</td>\n",
       "      <td>...</td>\n",
       "      <td>0</td>\n",
       "      <td>0</td>\n",
       "      <td>0</td>\n",
       "      <td>0</td>\n",
       "      <td>0</td>\n",
       "      <td>0</td>\n",
       "      <td>0</td>\n",
       "      <td>0</td>\n",
       "      <td>0</td>\n",
       "      <td>0</td>\n",
       "    </tr>\n",
       "    <tr>\n",
       "      <th>4</th>\n",
       "      <td>0</td>\n",
       "      <td>0</td>\n",
       "      <td>0</td>\n",
       "      <td>0</td>\n",
       "      <td>0</td>\n",
       "      <td>0</td>\n",
       "      <td>0</td>\n",
       "      <td>0</td>\n",
       "      <td>0</td>\n",
       "      <td>0</td>\n",
       "      <td>...</td>\n",
       "      <td>0</td>\n",
       "      <td>0</td>\n",
       "      <td>0</td>\n",
       "      <td>0</td>\n",
       "      <td>0</td>\n",
       "      <td>0</td>\n",
       "      <td>0</td>\n",
       "      <td>0</td>\n",
       "      <td>0</td>\n",
       "      <td>0</td>\n",
       "    </tr>\n",
       "  </tbody>\n",
       "</table>\n",
       "<p>5 rows × 784 columns</p>\n",
       "</div>"
      ],
      "text/plain": [
       "   pixel0  pixel1  pixel2  pixel3  pixel4  pixel5  pixel6  pixel7  pixel8  \\\n",
       "0       0       0       0       0       0       0       0       0       0   \n",
       "1       0       0       0       0       0       0       0       0       0   \n",
       "2       0       0       0       0       0       0       0       0       0   \n",
       "3       0       0       0       0       0       0       0       0       0   \n",
       "4       0       0       0       0       0       0       0       0       0   \n",
       "\n",
       "   pixel9  ...  pixel774  pixel775  pixel776  pixel777  pixel778  pixel779  \\\n",
       "0       0  ...         0         0         0         0         0         0   \n",
       "1       0  ...         0         0         0         0         0         0   \n",
       "2       0  ...         0         0         0         0         0         0   \n",
       "3       0  ...         0         0         0         0         0         0   \n",
       "4       0  ...         0         0         0         0         0         0   \n",
       "\n",
       "   pixel780  pixel781  pixel782  pixel783  \n",
       "0         0         0         0         0  \n",
       "1         0         0         0         0  \n",
       "2         0         0         0         0  \n",
       "3         0         0         0         0  \n",
       "4         0         0         0         0  \n",
       "\n",
       "[5 rows x 784 columns]"
      ]
     },
     "execution_count": 4,
     "metadata": {},
     "output_type": "execute_result"
    }
   ],
   "source": [
    "test.head(5)"
   ]
  },
  {
   "cell_type": "code",
   "execution_count": 5,
   "id": "705d2d64",
   "metadata": {
    "execution": {
     "iopub.execute_input": "2022-06-05T15:04:08.471864Z",
     "iopub.status.busy": "2022-06-05T15:04:08.471549Z",
     "iopub.status.idle": "2022-06-05T15:04:08.686322Z",
     "shell.execute_reply": "2022-06-05T15:04:08.685405Z"
    },
    "papermill": {
     "duration": 0.225091,
     "end_time": "2022-06-05T15:04:08.688425",
     "exception": false,
     "start_time": "2022-06-05T15:04:08.463334",
     "status": "completed"
    },
    "tags": []
   },
   "outputs": [
    {
     "data": {
      "text/plain": [
       "<AxesSubplot:>"
      ]
     },
     "execution_count": 5,
     "metadata": {},
     "output_type": "execute_result"
    },
    {
     "data": {
      "image/png": "[encoded data removed]",
      "text/plain": [
       "<Figure size 432x288 with 1 Axes>"
      ]
     },
     "metadata": {
      "needs_background": "light"
     },
     "output_type": "display_data"
    }
   ],
   "source": [
    "train['label'].value_counts().plot.bar()"
   ]
  },
  {
   "cell_type": "code",
   "execution_count": 6,
   "id": "a00837e1",
   "metadata": {
    "execution": {
     "iopub.execute_input": "2022-06-05T15:04:08.706371Z",
     "iopub.status.busy": "2022-06-05T15:04:08.706093Z",
     "iopub.status.idle": "2022-06-05T15:04:08.712729Z",
     "shell.execute_reply": "2022-06-05T15:04:08.711878Z"
    },
    "papermill": {
     "duration": 0.017489,
     "end_time": "2022-06-05T15:04:08.714513",
     "exception": false,
     "start_time": "2022-06-05T15:04:08.697024",
     "status": "completed"
    },
    "tags": []
   },
   "outputs": [],
   "source": [
    "import random\n",
    "\n",
    "def row_to_image(df_row):\n",
    "    im_size = int(28 * 28)\n",
    "    im_vec = df_row[-im_size:]\n",
    "    image_arr = np.array(im_vec).reshape(28, 28, 1)\n",
    "    return image_arr / 255\n",
    "\n",
    "def show_examples(df):\n",
    "    total_num = df.shape[0]\n",
    "    indices = random.sample(range(0, total_num), 9)\n",
    "    fig, axs = plt.subplots(nrows=3, ncols=3, figsize=(10, 6))\n",
    "    for ax, i in zip(axs.flatten(), indices):\n",
    "        img = row_to_image(df.iloc[i])\n",
    "        ax.imshow(img)"
   ]
  },
  {
   "cell_type": "code",
   "execution_count": 7,
   "id": "9d312191",
   "metadata": {
    "execution": {
     "iopub.execute_input": "2022-06-05T15:04:08.730677Z",
     "iopub.status.busy": "2022-06-05T15:04:08.730389Z",
     "iopub.status.idle": "2022-06-05T15:04:09.540346Z",
     "shell.execute_reply": "2022-06-05T15:04:09.539624Z"
    },
    "papermill": {
     "duration": 0.820086,
     "end_time": "2022-06-05T15:04:09.542207",
     "exception": false,
     "start_time": "2022-06-05T15:04:08.722121",
     "status": "completed"
    },
    "tags": []
   },
   "outputs": [
    {
     "data": {
      "image/png": "[encoded data removed]",
      "text/plain": [
       "<Figure size 720x432 with 9 Axes>"
      ]
     },
     "metadata": {
      "needs_background": "light"
     },
     "output_type": "display_data"
    }
   ],
   "source": [
    "show_examples(train)"
   ]
  },
  {
   "cell_type": "code",
   "execution_count": 8,
   "id": "46e06350",
   "metadata": {
    "execution": {
     "iopub.execute_input": "2022-06-05T15:04:09.559752Z",
     "iopub.status.busy": "2022-06-05T15:04:09.559238Z",
     "iopub.status.idle": "2022-06-05T15:04:10.210681Z",
     "shell.execute_reply": "2022-06-05T15:04:10.209926Z"
    },
    "papermill": {
     "duration": 0.66219,
     "end_time": "2022-06-05T15:04:10.212542",
     "exception": false,
     "start_time": "2022-06-05T15:04:09.550352",
     "status": "completed"
    },
    "tags": []
   },
   "outputs": [
    {
     "data": {
      "image/png": "[encoded data removed]",
      "text/plain": [
       "<Figure size 720x432 with 9 Axes>"
      ]
     },
     "metadata": {
      "needs_background": "light"
     },
     "output_type": "display_data"
    }
   ],
   "source": [
    "show_examples(test)"
   ]
  },
  {
   "cell_type": "code",
   "execution_count": 9,
   "id": "5a530c0e",
   "metadata": {
    "execution": {
     "iopub.execute_input": "2022-06-05T15:04:10.231183Z",
     "iopub.status.busy": "2022-06-05T15:04:10.230511Z",
     "iopub.status.idle": "2022-06-05T15:04:19.052388Z",
     "shell.execute_reply": "2022-06-05T15:04:19.051618Z"
    },
    "papermill": {
     "duration": 8.833207,
     "end_time": "2022-06-05T15:04:19.054519",
     "exception": false,
     "start_time": "2022-06-05T15:04:10.221312",
     "status": "completed"
    },
    "tags": []
   },
   "outputs": [],
   "source": [
    "x_train_total = []\n",
    "y_train_total = []\n",
    "\n",
    "for i in range(train.shape[0]):\n",
    "    x_train_total.append(row_to_image(train.iloc[i]))\n",
    "    y_train_total.append(int(train.iloc[i]['label']))"
   ]
  },
  {
   "cell_type": "code",
   "execution_count": 10,
   "id": "0617b495",
   "metadata": {
    "execution": {
     "iopub.execute_input": "2022-06-05T15:04:19.073743Z",
     "iopub.status.busy": "2022-06-05T15:04:19.073324Z",
     "iopub.status.idle": "2022-06-05T15:04:19.078467Z",
     "shell.execute_reply": "2022-06-05T15:04:19.077623Z"
    },
    "papermill": {
     "duration": 0.017897,
     "end_time": "2022-06-05T15:04:19.081590",
     "exception": false,
     "start_time": "2022-06-05T15:04:19.063693",
     "status": "completed"
    },
    "tags": []
   },
   "outputs": [
    {
     "name": "stdout",
     "output_type": "stream",
     "text": [
      "Total training set is of length: 42000, with elements in shape: (28, 28, 1)\n",
      "Labels are of length: 42000, of type: <class 'int'>\n"
     ]
    }
   ],
   "source": [
    "print('Total training set is of length: {}, with elements in shape: {}'.format(len(x_train_total), x_train_total[0].shape))\n",
    "print('Labels are of length: {}, of type: {}'.format(len(y_train_total), type(y_train_total[0])))"
   ]
  },
  {
   "cell_type": "code",
   "execution_count": 11,
   "id": "0b3c33f3",
   "metadata": {
    "execution": {
     "iopub.execute_input": "2022-06-05T15:04:19.100498Z",
     "iopub.status.busy": "2022-06-05T15:04:19.100220Z",
     "iopub.status.idle": "2022-06-05T15:04:19.455312Z",
     "shell.execute_reply": "2022-06-05T15:04:19.454524Z"
    },
    "papermill": {
     "duration": 0.36632,
     "end_time": "2022-06-05T15:04:19.457211",
     "exception": false,
     "start_time": "2022-06-05T15:04:19.090891",
     "status": "completed"
    },
    "tags": []
   },
   "outputs": [
    {
     "name": "stdout",
     "output_type": "stream",
     "text": [
      "Label is: 6\n",
      "\n"
     ]
    },
    {
     "data": {
      "image/png": "[encoded data removed]",
      "text/plain": [
       "<Figure size 432x288 with 1 Axes>"
      ]
     },
     "metadata": {
      "needs_background": "light"
     },
     "output_type": "display_data"
    }
   ],
   "source": [
    "indices = np.arange(len(y_train_total), dtype=int)\n",
    "np.random.seed(42)\n",
    "np.random.shuffle(indices)\n",
    "\n",
    "x_train_shuffled = np.array(x_train_total)[indices]\n",
    "y_train_shuffled = np.array(y_train_total)[indices]\n",
    "\n",
    "# Check shuffled\n",
    "plt.imshow(x_train_shuffled[5])\n",
    "print('Label is: {}\\n'.format(y_train_shuffled[5]))"
   ]
  },
  {
   "cell_type": "code",
   "execution_count": 12,
   "id": "473ae68f",
   "metadata": {
    "execution": {
     "iopub.execute_input": "2022-06-05T15:04:19.476345Z",
     "iopub.status.busy": "2022-06-05T15:04:19.476019Z",
     "iopub.status.idle": "2022-06-05T15:04:19.482556Z",
     "shell.execute_reply": "2022-06-05T15:04:19.481836Z"
    },
    "papermill": {
     "duration": 0.018578,
     "end_time": "2022-06-05T15:04:19.484678",
     "exception": false,
     "start_time": "2022-06-05T15:04:19.466100",
     "status": "completed"
    },
    "tags": []
   },
   "outputs": [
    {
     "name": "stdout",
     "output_type": "stream",
     "text": [
      "Train set length: 39900\n",
      "Validation set length: 2100\n"
     ]
    }
   ],
   "source": [
    "split_ratio = 0.95\n",
    "split_index = int(len(y_train_total) * split_ratio)\n",
    "\n",
    "x_train = x_train_shuffled[:split_index]\n",
    "y_train = y_train_shuffled[:split_index]\n",
    "\n",
    "x_valid = x_train_shuffled[split_index:]\n",
    "y_valid = y_train_shuffled[split_index:]\n",
    "\n",
    "assert len(x_train) == len(y_train), 'Train set length mismatch'\n",
    "assert len(x_valid) == len(y_valid), 'Validation set length mismatch'\n",
    "\n",
    "print('Train set length: {}\\nValidation set length: {}'.format(len(y_train), len(y_valid)))"
   ]
  },
  {
   "cell_type": "code",
   "execution_count": 13,
   "id": "732633e2",
   "metadata": {
    "execution": {
     "iopub.execute_input": "2022-06-05T15:04:19.504258Z",
     "iopub.status.busy": "2022-06-05T15:04:19.503629Z",
     "iopub.status.idle": "2022-06-05T15:04:20.403022Z",
     "shell.execute_reply": "2022-06-05T15:04:20.402198Z"
    },
    "papermill": {
     "duration": 0.911172,
     "end_time": "2022-06-05T15:04:20.405137",
     "exception": false,
     "start_time": "2022-06-05T15:04:19.493965",
     "status": "completed"
    },
    "tags": []
   },
   "outputs": [],
   "source": [
    "from tensorflow.keras.preprocessing.image import ImageDataGenerator\n",
    "\n",
    "datagen = ImageDataGenerator(\n",
    "    rotation_range = 10,\n",
    "    width_shift_range = 0.2,\n",
    "    height_shift_range = 0.2,\n",
    "    shear_range = 0.1,\n",
    "    zoom_range = 0.1,\n",
    "    fill_mode = 'nearest'\n",
    ")"
   ]
  },
  {
   "cell_type": "code",
   "execution_count": 14,
   "id": "48ff8202",
   "metadata": {
    "execution": {
     "iopub.execute_input": "2022-06-05T15:04:20.425318Z",
     "iopub.status.busy": "2022-06-05T15:04:20.424663Z",
     "iopub.status.idle": "2022-06-05T15:04:20.433074Z",
     "shell.execute_reply": "2022-06-05T15:04:20.432315Z"
    },
    "papermill": {
     "duration": 0.020497,
     "end_time": "2022-06-05T15:04:20.434864",
     "exception": false,
     "start_time": "2022-06-05T15:04:20.414367",
     "status": "completed"
    },
    "tags": []
   },
   "outputs": [],
   "source": [
    "class DigitRecognizer(tf.keras.Model):\n",
    "    def __init__(self):\n",
    "        super().__init__(self)\n",
    "        self.input_layer = tf.keras.layers.Conv2D(64, (3,3), activation='relu', input_shape=[28,28,1])\n",
    "#         self.conv1_layer = tf.keras.layers.Conv2D(64, (3,3), activation='relu')\n",
    "#         self.conv2_layer = tf.keras.layers.Conv2D(32, (3,3), activation='relu')\n",
    "        self.max_pooling_layer = tf.keras.layers.MaxPooling2D(2,2)\n",
    "        self.flatten_layer = tf.keras.layers.Flatten()\n",
    "#         self.dense1_layer = tf.keras.layers.Dense(256, activation='relu')\n",
    "        self.dense2_layer = tf.keras.layers.Dense(128, activation='relu')\n",
    "        self.dropout_layer = tf.keras.layers.Dropout(0.2)\n",
    "        self.output_layer = tf.keras.layers.Dense(10, activation='softmax')\n",
    "        \n",
    "    def call(self, input, training=None):\n",
    "        x = self.input_layer(input)\n",
    "        x = self.max_pooling_layer(x)\n",
    "#         x = self.conv1_layer(x)\n",
    "#         x = self.max_pooling_layer(x)\n",
    "#         x = self.conv2_layer(x)\n",
    "#         x = self.max_pooling_layer(x)\n",
    "        x = self.flatten_layer(x)\n",
    "#         x = self.dense1_layer(x)\n",
    "#         x = self.dropout_layer(x)\n",
    "        x = self.dense2_layer(x)\n",
    "        x = self.dropout_layer(x)\n",
    "        x = self.output_layer(x)\n",
    "        return x"
   ]
  },
  {
   "cell_type": "code",
   "execution_count": 15,
   "id": "f0d33512",
   "metadata": {
    "execution": {
     "iopub.execute_input": "2022-06-05T15:04:20.453819Z",
     "iopub.status.busy": "2022-06-05T15:04:20.453420Z",
     "iopub.status.idle": "2022-06-05T15:04:29.610423Z",
     "shell.execute_reply": "2022-06-05T15:04:29.609608Z"
    },
    "papermill": {
     "duration": 9.169274,
     "end_time": "2022-06-05T15:04:29.613216",
     "exception": false,
     "start_time": "2022-06-05T15:04:20.443942",
     "status": "completed"
    },
    "tags": []
   },
   "outputs": [
    {
     "name": "stderr",
     "output_type": "stream",
     "text": [
      "2022-06-05 15:04:20.541769: I tensorflow/stream_executor/cuda/cuda_gpu_executor.cc:937] successful NUMA node read from SysFS had negative value (-1), but there must be at least one NUMA node, so returning NUMA node zero\n",
      "2022-06-05 15:04:20.700671: I tensorflow/stream_executor/cuda/cuda_gpu_executor.cc:937] successful NUMA node read from SysFS had negative value (-1), but there must be at least one NUMA node, so returning NUMA node zero\n",
      "2022-06-05 15:04:20.701527: I tensorflow/stream_executor/cuda/cuda_gpu_executor.cc:937] successful NUMA node read from SysFS had negative value (-1), but there must be at least one NUMA node, so returning NUMA node zero\n",
      "2022-06-05 15:04:20.702736: I tensorflow/core/platform/cpu_feature_guard.cc:142] This TensorFlow binary is optimized with oneAPI Deep Neural Network Library (oneDNN) to use the following CPU instructions in performance-critical operations:  AVX2 AVX512F FMA\n",
      "To enable them in other operations, rebuild TensorFlow with the appropriate compiler flags.\n",
      "2022-06-05 15:04:20.703058: I tensorflow/stream_executor/cuda/cuda_gpu_executor.cc:937] successful NUMA node read from SysFS had negative value (-1), but there must be at least one NUMA node, so returning NUMA node zero\n",
      "2022-06-05 15:04:20.703813: I tensorflow/stream_executor/cuda/cuda_gpu_executor.cc:937] successful NUMA node read from SysFS had negative value (-1), but there must be at least one NUMA node, so returning NUMA node zero\n",
      "2022-06-05 15:04:20.704461: I tensorflow/stream_executor/cuda/cuda_gpu_executor.cc:937] successful NUMA node read from SysFS had negative value (-1), but there must be at least one NUMA node, so returning NUMA node zero\n",
      "2022-06-05 15:04:23.135103: I tensorflow/stream_executor/cuda/cuda_gpu_executor.cc:937] successful NUMA node read from SysFS had negative value (-1), but there must be at least one NUMA node, so returning NUMA node zero\n",
      "2022-06-05 15:04:23.136111: I tensorflow/stream_executor/cuda/cuda_gpu_executor.cc:937] successful NUMA node read from SysFS had negative value (-1), but there must be at least one NUMA node, so returning NUMA node zero\n",
      "2022-06-05 15:04:23.136885: I tensorflow/stream_executor/cuda/cuda_gpu_executor.cc:937] successful NUMA node read from SysFS had negative value (-1), but there must be at least one NUMA node, so returning NUMA node zero\n",
      "2022-06-05 15:04:23.137492: I tensorflow/core/common_runtime/gpu/gpu_device.cc:1510] Created device /job:localhost/replica:0/task:0/device:GPU:0 with 15403 MB memory:  -> device: 0, name: Tesla P100-PCIE-16GB, pci bus id: 0000:00:04.0, compute capability: 6.0\n",
      "2022-06-05 15:04:24.330342: I tensorflow/stream_executor/cuda/cuda_dnn.cc:369] Loaded cuDNN version 8005\n"
     ]
    },
    {
     "name": "stdout",
     "output_type": "stream",
     "text": [
      "(1, 10)\n"
     ]
    }
   ],
   "source": [
    "model = DigitRecognizer()\n",
    "model.compile(loss='sparse_categorical_crossentropy', optimizer='adam', metrics=['accuracy'])\n",
    "\n",
    "# Example prediction\n",
    "example_prediction = model(np.expand_dims(x_train[0], axis=0))\n",
    "print(example_prediction.shape)"
   ]
  },
  {
   "cell_type": "code",
   "execution_count": 16,
   "id": "42597f5d",
   "metadata": {
    "execution": {
     "iopub.execute_input": "2022-06-05T15:04:29.634237Z",
     "iopub.status.busy": "2022-06-05T15:04:29.633510Z",
     "iopub.status.idle": "2022-06-05T15:04:29.644150Z",
     "shell.execute_reply": "2022-06-05T15:04:29.642631Z"
    },
    "papermill": {
     "duration": 0.022405,
     "end_time": "2022-06-05T15:04:29.645868",
     "exception": false,
     "start_time": "2022-06-05T15:04:29.623463",
     "status": "completed"
    },
    "tags": []
   },
   "outputs": [
    {
     "name": "stdout",
     "output_type": "stream",
     "text": [
      "Model: \"digit_recognizer\"\n",
      "_________________________________________________________________\n",
      "Layer (type)                 Output Shape              Param #   \n",
      "=================================================================\n",
      "conv2d (Conv2D)              multiple                  640       \n",
      "_________________________________________________________________\n",
      "max_pooling2d (MaxPooling2D) multiple                  0         \n",
      "_________________________________________________________________\n",
      "flatten (Flatten)            multiple                  0         \n",
      "_________________________________________________________________\n",
      "dense (Dense)                multiple                  1384576   \n",
      "_________________________________________________________________\n",
      "dropout (Dropout)            multiple                  0         \n",
      "_________________________________________________________________\n",
      "dense_1 (Dense)              multiple                  1290      \n",
      "=================================================================\n",
      "Total params: 1,386,506\n",
      "Trainable params: 1,386,506\n",
      "Non-trainable params: 0\n",
      "_________________________________________________________________\n"
     ]
    }
   ],
   "source": [
    "model.summary()\n",
    "init_weights = model.get_weights()"
   ]
  },
  {
   "cell_type": "code",
   "execution_count": 17,
   "id": "de55a139",
   "metadata": {
    "execution": {
     "iopub.execute_input": "2022-06-05T15:04:29.664964Z",
     "iopub.status.busy": "2022-06-05T15:04:29.664681Z",
     "iopub.status.idle": "2022-06-05T15:04:29.668417Z",
     "shell.execute_reply": "2022-06-05T15:04:29.667548Z"
    },
    "papermill": {
     "duration": 0.015344,
     "end_time": "2022-06-05T15:04:29.670204",
     "exception": false,
     "start_time": "2022-06-05T15:04:29.654860",
     "status": "completed"
    },
    "tags": []
   },
   "outputs": [],
   "source": [
    "TRAIN = True"
   ]
  },
  {
   "cell_type": "code",
   "execution_count": 18,
   "id": "664737af",
   "metadata": {
    "execution": {
     "iopub.execute_input": "2022-06-05T15:04:29.689485Z",
     "iopub.status.busy": "2022-06-05T15:04:29.689191Z",
     "iopub.status.idle": "2022-06-05T15:08:10.187279Z",
     "shell.execute_reply": "2022-06-05T15:08:10.186488Z"
    },
    "papermill": {
     "duration": 220.510092,
     "end_time": "2022-06-05T15:08:10.189349",
     "exception": false,
     "start_time": "2022-06-05T15:04:29.679257",
     "status": "completed"
    },
    "tags": []
   },
   "outputs": [
    {
     "name": "stderr",
     "output_type": "stream",
     "text": [
      "2022-06-05 15:04:29.829370: I tensorflow/compiler/mlir/mlir_graph_optimization_pass.cc:185] None of the MLIR Optimization Passes are enabled (registered 2)\n"
     ]
    },
    {
     "name": "stdout",
     "output_type": "stream",
     "text": [
      "Epoch 1/15\n",
      "1246/1246 [==============================] - 14s 11ms/step - loss: 0.6847 - accuracy: 0.7761 - val_loss: 0.2077 - val_accuracy: 0.9424\n",
      "Epoch 2/15\n",
      "1246/1246 [==============================] - 14s 11ms/step - loss: 0.3358 - accuracy: 0.8966 - val_loss: 0.1655 - val_accuracy: 0.9514\n",
      "Epoch 3/15\n",
      "1246/1246 [==============================] - 14s 11ms/step - loss: 0.2650 - accuracy: 0.9165 - val_loss: 0.0984 - val_accuracy: 0.9743\n",
      "Epoch 4/15\n",
      "1246/1246 [==============================] - 14s 11ms/step - loss: 0.2299 - accuracy: 0.9279 - val_loss: 0.0911 - val_accuracy: 0.9752\n",
      "Epoch 5/15\n",
      "1246/1246 [==============================] - 14s 11ms/step - loss: 0.2090 - accuracy: 0.9360 - val_loss: 0.1086 - val_accuracy: 0.9719\n",
      "Epoch 6/15\n",
      "1246/1246 [==============================] - 14s 11ms/step - loss: 0.1898 - accuracy: 0.9396 - val_loss: 0.0767 - val_accuracy: 0.9810\n",
      "Epoch 7/15\n",
      "1246/1246 [==============================] - 15s 12ms/step - loss: 0.1783 - accuracy: 0.9462 - val_loss: 0.1383 - val_accuracy: 0.9552\n",
      "Epoch 8/15\n",
      "1246/1246 [==============================] - 13s 11ms/step - loss: 0.1699 - accuracy: 0.9476 - val_loss: 0.0803 - val_accuracy: 0.9776\n",
      "Epoch 9/15\n",
      "1246/1246 [==============================] - 13s 11ms/step - loss: 0.1612 - accuracy: 0.9508 - val_loss: 0.0619 - val_accuracy: 0.9848\n",
      "Epoch 10/15\n",
      "1246/1246 [==============================] - 14s 11ms/step - loss: 0.1506 - accuracy: 0.9532 - val_loss: 0.1167 - val_accuracy: 0.9714\n",
      "Epoch 11/15\n",
      "1246/1246 [==============================] - 14s 11ms/step - loss: 0.1437 - accuracy: 0.9565 - val_loss: 0.0737 - val_accuracy: 0.9800\n",
      "Epoch 12/15\n",
      "1246/1246 [==============================] - 14s 11ms/step - loss: 0.1428 - accuracy: 0.9568 - val_loss: 0.0705 - val_accuracy: 0.9810\n",
      "Epoch 13/15\n",
      "1246/1246 [==============================] - 14s 11ms/step - loss: 0.1358 - accuracy: 0.9590 - val_loss: 0.0679 - val_accuracy: 0.9819\n",
      "Epoch 14/15\n",
      "1246/1246 [==============================] - 13s 11ms/step - loss: 0.1330 - accuracy: 0.9597 - val_loss: 0.0707 - val_accuracy: 0.9781\n",
      "Epoch 15/15\n",
      "1246/1246 [==============================] - 14s 12ms/step - loss: 0.1301 - accuracy: 0.9592 - val_loss: 0.0837 - val_accuracy: 0.9767\n"
     ]
    }
   ],
   "source": [
    "if TRAIN:\n",
    "\n",
    "    epochs = 15\n",
    "\n",
    "    model.set_weights(init_weights)\n",
    "\n",
    "    history = model.fit(\n",
    "        datagen.flow(x_train, y_train, batch_size=32),\n",
    "        validation_data=(x_valid, y_valid),\n",
    "        steps_per_epoch=len(x_train) / 32,\n",
    "        epochs=epochs\n",
    "    )\n",
    "    \n",
    "    model.save_weights('/kaggle/working/mk0_weights')\n",
    "    np.save('/kaggle/working/mk0_history.npy', history.history)"
   ]
  },
  {
   "cell_type": "code",
   "execution_count": 19,
   "id": "5b000f63",
   "metadata": {
    "execution": {
     "iopub.execute_input": "2022-06-05T15:08:10.714415Z",
     "iopub.status.busy": "2022-06-05T15:08:10.714031Z",
     "iopub.status.idle": "2022-06-05T15:08:10.718801Z",
     "shell.execute_reply": "2022-06-05T15:08:10.717949Z"
    },
    "papermill": {
     "duration": 0.242735,
     "end_time": "2022-06-05T15:08:10.720543",
     "exception": false,
     "start_time": "2022-06-05T15:08:10.477808",
     "status": "completed"
    },
    "tags": []
   },
   "outputs": [],
   "source": [
    "if not TRAIN:\n",
    "    model.load_weights('/kaggle/working/mk0_weights')\n",
    "    history=np.load('/kaggle/working/mk0_history.npy',allow_pickle='TRUE').item()"
   ]
  },
  {
   "cell_type": "code",
   "execution_count": 20,
   "id": "e6bc880e",
   "metadata": {
    "execution": {
     "iopub.execute_input": "2022-06-05T15:08:11.181741Z",
     "iopub.status.busy": "2022-06-05T15:08:11.181371Z",
     "iopub.status.idle": "2022-06-05T15:08:11.376912Z",
     "shell.execute_reply": "2022-06-05T15:08:11.376172Z"
    },
    "papermill": {
     "duration": 0.42715,
     "end_time": "2022-06-05T15:08:11.378651",
     "exception": false,
     "start_time": "2022-06-05T15:08:10.951501",
     "status": "completed"
    },
    "tags": []
   },
   "outputs": [
    {
     "data": {
      "image/png": "[encoded data removed]",
      "text/plain": [
       "<Figure size 432x288 with 1 Axes>"
      ]
     },
     "metadata": {
      "needs_background": "light"
     },
     "output_type": "display_data"
    },
    {
     "data": {
      "text/plain": [
       "<Figure size 432x288 with 0 Axes>"
      ]
     },
     "metadata": {},
     "output_type": "display_data"
    }
   ],
   "source": [
    "history = history.history if TRAIN else history\n",
    "\n",
    "acc = history['accuracy']\n",
    "val_acc = history['val_accuracy']\n",
    "loss = history['loss']\n",
    "val_loss = history['val_loss']\n",
    "\n",
    "epochs = range(len(acc))\n",
    "\n",
    "plt.plot(epochs, acc, 'r', label='Training accuracy')\n",
    "plt.plot(epochs, val_acc, 'b', label='Validation accuracy')\n",
    "plt.title('Training and validation accuracy')\n",
    "plt.legend(loc=0)\n",
    "plt.figure()\n",
    "\n",
    "plt.show()"
   ]
  },
  {
   "cell_type": "code",
   "execution_count": 21,
   "id": "0e65f208",
   "metadata": {
    "execution": {
     "iopub.execute_input": "2022-06-05T15:08:11.842076Z",
     "iopub.status.busy": "2022-06-05T15:08:11.841728Z",
     "iopub.status.idle": "2022-06-05T15:08:12.040147Z",
     "shell.execute_reply": "2022-06-05T15:08:12.039401Z"
    },
    "papermill": {
     "duration": 0.433343,
     "end_time": "2022-06-05T15:08:12.042285",
     "exception": false,
     "start_time": "2022-06-05T15:08:11.608942",
     "status": "completed"
    },
    "tags": []
   },
   "outputs": [
    {
     "data": {
      "image/png": "[encoded data removed]",
      "text/plain": [
       "<Figure size 432x288 with 1 Axes>"
      ]
     },
     "metadata": {
      "needs_background": "light"
     },
     "output_type": "display_data"
    },
    {
     "data": {
      "text/plain": [
       "<Figure size 432x288 with 0 Axes>"
      ]
     },
     "metadata": {},
     "output_type": "display_data"
    }
   ],
   "source": [
    "plt.plot(epochs, loss, 'r', label='Training loss')\n",
    "plt.plot(epochs, val_loss, 'b', label='Validation loss')\n",
    "plt.title('Training and validation loss')\n",
    "plt.legend(loc=0)\n",
    "plt.figure()\n",
    "\n",
    "plt.show()"
   ]
  },
  {
   "cell_type": "code",
   "execution_count": 22,
   "id": "028c53b4",
   "metadata": {
    "execution": {
     "iopub.execute_input": "2022-06-05T15:08:12.508257Z",
     "iopub.status.busy": "2022-06-05T15:08:12.507899Z",
     "iopub.status.idle": "2022-06-05T15:08:16.627677Z",
     "shell.execute_reply": "2022-06-05T15:08:16.626847Z"
    },
    "papermill": {
     "duration": 4.356843,
     "end_time": "2022-06-05T15:08:16.629809",
     "exception": false,
     "start_time": "2022-06-05T15:08:12.272966",
     "status": "completed"
    },
    "tags": []
   },
   "outputs": [],
   "source": [
    "x_test = []\n",
    "\n",
    "for i in range(test.shape[0]):\n",
    "    x_test.append(row_to_image(test.iloc[i]))\n",
    "    \n",
    "x_test = np.array(x_test)"
   ]
  },
  {
   "cell_type": "code",
   "execution_count": 23,
   "id": "c3736029",
   "metadata": {
    "execution": {
     "iopub.execute_input": "2022-06-05T15:08:17.142100Z",
     "iopub.status.busy": "2022-06-05T15:08:17.141535Z",
     "iopub.status.idle": "2022-06-05T15:08:17.407751Z",
     "shell.execute_reply": "2022-06-05T15:08:17.406954Z"
    },
    "papermill": {
     "duration": 0.503529,
     "end_time": "2022-06-05T15:08:17.409592",
     "exception": false,
     "start_time": "2022-06-05T15:08:16.906063",
     "status": "completed"
    },
    "tags": []
   },
   "outputs": [
    {
     "name": "stdout",
     "output_type": "stream",
     "text": [
      "Prediction: 2\n"
     ]
    },
    {
     "data": {
      "text/plain": [
       "<matplotlib.image.AxesImage at 0x7f7b0f3ca3d0>"
      ]
     },
     "execution_count": 23,
     "metadata": {},
     "output_type": "execute_result"
    },
    {
     "data": {
      "image/png": "[encoded data removed]",
      "text/plain": [
       "<Figure size 432x288 with 1 Axes>"
      ]
     },
     "metadata": {
      "needs_background": "light"
     },
     "output_type": "display_data"
    }
   ],
   "source": [
    "# Sample Prediction\n",
    "ind = random.randint(0, x_test.shape[0])\n",
    "\n",
    "pred = model.predict(np.expand_dims(x_test[ind], axis=0))\n",
    "print('Prediction: {}'.format(np.argmax(pred[0])))\n",
    "plt.imshow(x_test[ind])"
   ]
  },
  {
   "cell_type": "code",
   "execution_count": 24,
   "id": "22b58adf",
   "metadata": {
    "execution": {
     "iopub.execute_input": "2022-06-05T15:08:17.874343Z",
     "iopub.status.busy": "2022-06-05T15:08:17.873980Z",
     "iopub.status.idle": "2022-06-05T15:08:21.216393Z",
     "shell.execute_reply": "2022-06-05T15:08:21.215489Z"
    },
    "papermill": {
     "duration": 3.576816,
     "end_time": "2022-06-05T15:08:21.218489",
     "exception": false,
     "start_time": "2022-06-05T15:08:17.641673",
     "status": "completed"
    },
    "tags": []
   },
   "outputs": [],
   "source": [
    "predictions = model.predict(x_test, batch_size=10)"
   ]
  },
  {
   "cell_type": "code",
   "execution_count": 25,
   "id": "b18cc05e",
   "metadata": {
    "execution": {
     "iopub.execute_input": "2022-06-05T15:08:21.689150Z",
     "iopub.status.busy": "2022-06-05T15:08:21.688769Z",
     "iopub.status.idle": "2022-06-05T15:08:21.693847Z",
     "shell.execute_reply": "2022-06-05T15:08:21.693111Z"
    },
    "papermill": {
     "duration": 0.244068,
     "end_time": "2022-06-05T15:08:21.695829",
     "exception": false,
     "start_time": "2022-06-05T15:08:21.451761",
     "status": "completed"
    },
    "tags": []
   },
   "outputs": [],
   "source": [
    "preds = np.argmax(predictions, axis=1)\n",
    "ids = np.arange(1, len(preds) + 1)"
   ]
  },
  {
   "cell_type": "code",
   "execution_count": 26,
   "id": "93e04876",
   "metadata": {
    "execution": {
     "iopub.execute_input": "2022-06-05T15:08:22.172283Z",
     "iopub.status.busy": "2022-06-05T15:08:22.171766Z",
     "iopub.status.idle": "2022-06-05T15:08:22.360176Z",
     "shell.execute_reply": "2022-06-05T15:08:22.359370Z"
    },
    "papermill": {
     "duration": 0.431123,
     "end_time": "2022-06-05T15:08:22.362013",
     "exception": false,
     "start_time": "2022-06-05T15:08:21.930890",
     "status": "completed"
    },
    "tags": []
   },
   "outputs": [
    {
     "data": {
      "text/plain": [
       "<AxesSubplot:>"
      ]
     },
     "execution_count": 26,
     "metadata": {},
     "output_type": "execute_result"
    },
    {
     "data": {
      "image/png": "[encoded data removed]",
      "text/plain": [
       "<Figure size 432x288 with 1 Axes>"
      ]
     },
     "metadata": {
      "needs_background": "light"
     },
     "output_type": "display_data"
    }
   ],
   "source": [
    "my_submission = pd.DataFrame({'ImageId': ids, 'Label': preds})\n",
    "my_submission['Label'].value_counts().plot.bar()"
   ]
  },
  {
   "cell_type": "code",
   "execution_count": 27,
   "id": "8ab256a7",
   "metadata": {
    "execution": {
     "iopub.execute_input": "2022-06-05T15:08:22.871072Z",
     "iopub.status.busy": "2022-06-05T15:08:22.870195Z",
     "iopub.status.idle": "2022-06-05T15:08:22.878871Z",
     "shell.execute_reply": "2022-06-05T15:08:22.878021Z"
    },
    "papermill": {
     "duration": 0.241318,
     "end_time": "2022-06-05T15:08:22.880697",
     "exception": false,
     "start_time": "2022-06-05T15:08:22.639379",
     "status": "completed"
    },
    "tags": []
   },
   "outputs": [
    {
     "data": {
      "text/html": [
       "<div>\n",
       "<style scoped>\n",
       "    .dataframe tbody tr th:only-of-type {\n",
       "        vertical-align: middle;\n",
       "    }\n",
       "\n",
       "    .dataframe tbody tr th {\n",
       "        vertical-align: top;\n",
       "    }\n",
       "\n",
       "    .dataframe thead th {\n",
       "        text-align: right;\n",
       "    }\n",
       "</style>\n",
       "<table border=\"1\" class=\"dataframe\">\n",
       "  <thead>\n",
       "    <tr style=\"text-align: right;\">\n",
       "      <th></th>\n",
       "      <th>ImageId</th>\n",
       "      <th>Label</th>\n",
       "    </tr>\n",
       "  </thead>\n",
       "  <tbody>\n",
       "    <tr>\n",
       "      <th>0</th>\n",
       "      <td>1</td>\n",
       "      <td>2</td>\n",
       "    </tr>\n",
       "    <tr>\n",
       "      <th>1</th>\n",
       "      <td>2</td>\n",
       "      <td>0</td>\n",
       "    </tr>\n",
       "    <tr>\n",
       "      <th>2</th>\n",
       "      <td>3</td>\n",
       "      <td>9</td>\n",
       "    </tr>\n",
       "    <tr>\n",
       "      <th>3</th>\n",
       "      <td>4</td>\n",
       "      <td>0</td>\n",
       "    </tr>\n",
       "    <tr>\n",
       "      <th>4</th>\n",
       "      <td>5</td>\n",
       "      <td>3</td>\n",
       "    </tr>\n",
       "  </tbody>\n",
       "</table>\n",
       "</div>"
      ],
      "text/plain": [
       "   ImageId  Label\n",
       "0        1      2\n",
       "1        2      0\n",
       "2        3      9\n",
       "3        4      0\n",
       "4        5      3"
      ]
     },
     "execution_count": 27,
     "metadata": {},
     "output_type": "execute_result"
    }
   ],
   "source": [
    "my_submission.head(5)"
   ]
  },
  {
   "cell_type": "code",
   "execution_count": 28,
   "id": "1c6673dc",
   "metadata": {
    "execution": {
     "iopub.execute_input": "2022-06-05T15:08:23.349816Z",
     "iopub.status.busy": "2022-06-05T15:08:23.349435Z",
     "iopub.status.idle": "2022-06-05T15:08:23.522283Z",
     "shell.execute_reply": "2022-06-05T15:08:23.521427Z"
    },
    "papermill": {
     "duration": 0.411001,
     "end_time": "2022-06-05T15:08:23.524076",
     "exception": false,
     "start_time": "2022-06-05T15:08:23.113075",
     "status": "completed"
    },
    "tags": []
   },
   "outputs": [
    {
     "name": "stdout",
     "output_type": "stream",
     "text": [
      "2\n"
     ]
    },
    {
     "data": {
      "text/plain": [
       "<matplotlib.image.AxesImage at 0x7f7b0f294450>"
      ]
     },
     "execution_count": 28,
     "metadata": {},
     "output_type": "execute_result"
    },
    {
     "data": {
      "image/png": "[encoded data removed]",
      "text/plain": [
       "<Figure size 432x288 with 1 Axes>"
      ]
     },
     "metadata": {
      "needs_background": "light"
     },
     "output_type": "display_data"
    }
   ],
   "source": [
    "print(my_submission.iloc[0]['Label'])\n",
    "plt.imshow(x_test[0])"
   ]
  },
  {
   "cell_type": "code",
   "execution_count": 29,
   "id": "f899ecd2",
   "metadata": {
    "execution": {
     "iopub.execute_input": "2022-06-05T15:08:23.993417Z",
     "iopub.status.busy": "2022-06-05T15:08:23.992827Z",
     "iopub.status.idle": "2022-06-05T15:08:24.036856Z",
     "shell.execute_reply": "2022-06-05T15:08:24.035997Z"
    },
    "papermill": {
     "duration": 0.281486,
     "end_time": "2022-06-05T15:08:24.038677",
     "exception": false,
     "start_time": "2022-06-05T15:08:23.757191",
     "status": "completed"
    },
    "tags": []
   },
   "outputs": [],
   "source": [
    "my_submission.to_csv('submission.csv', index=False)"
   ]
  },
  {
   "cell_type": "code",
   "execution_count": null,
   "id": "1ba0634c",
   "metadata": {
    "papermill": {
     "duration": 0.409506,
     "end_time": "2022-06-05T15:08:24.681343",
     "exception": false,
     "start_time": "2022-06-05T15:08:24.271837",
     "status": "completed"
    },
    "tags": []
   },
   "outputs": [],
   "source": []
  }
 ],
 "metadata": {
  "kernelspec": {
   "display_name": "Python 3",
   "language": "python",
   "name": "python3"
  },
  "language_info": {
   "codemirror_mode": {
    "name": "ipython",
    "version": 3
   },
   "file_extension": ".py",
   "mimetype": "text/x-python",
   "name": "python",
   "nbconvert_exporter": "python",
   "pygments_lexer": "ipython3",
   "version": "3.7.12"
  },
  "papermill": {
   "default_parameters": {},
   "duration": 277.505343,
   "end_time": "2022-06-05T15:08:28.026957",
   "environment_variables": {},
   "exception": null,
   "input_path": "__notebook__.ipynb",
   "output_path": "__notebook__.ipynb",
   "parameters": {},
   "start_time": "2022-06-05T15:03:50.521614",
   "version": "2.3.4"
  }
 },
 "nbformat": 4,
 "nbformat_minor": 5
}
